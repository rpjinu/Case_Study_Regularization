{
  "cells": [
    {
      "cell_type": "markdown",
      "id": "b338bce5",
      "metadata": {
        "id": "b338bce5"
      },
      "source": [
        "## Problem Statement\n",
        "\n",
        "There is a business requirement where we need to classify the gender based on the various features using the concept of regularization. Here we are going to apply the L1 and L2 regularization and using logistic regression we are going to apply the same. There are around 5000 records on which we need to create the model and come up with the solution."
      ]
    },
    {
      "cell_type": "markdown",
      "id": "dd03dbf4",
      "metadata": {
        "id": "dd03dbf4"
      },
      "source": [
        "**Data Dictionary**\n",
        "\n",
        "**long_hair** - Length of hair\n",
        "\n",
        "**forehead_width_cm** - Forehead width of individual\n",
        "\n",
        "**forehead_height_cm** - Forehead height of individual\n",
        "\n",
        "**nose_wide** -\tNose width of individual\n",
        "\n",
        "**nose_long** -\tNose length of the individual\n",
        "\n",
        "**lips_thin** -\tlips structure of the individual\n",
        "\n",
        "**distance_nose_to_lip_long** - Distance from nose to lip\n",
        "\n",
        "**gender** -\tDependent variables i.e. Gender"
      ]
    },
    {
      "cell_type": "markdown",
      "id": "f16a4057",
      "metadata": {
        "id": "f16a4057"
      },
      "source": [
        "# Table of Content\n",
        "\n",
        "1. **[Import Libraries](#lib)**\n",
        "2. **[Data Preparation](#prep)**\n",
        "    - 2.1 - **[Understand the Data](#read)**\n",
        "    - 2.2 - **[Exploratory Data Analysis](#eda)**\n",
        "    - 2.3 - **[Missing Value Treatment](#null)**\n",
        "    - 2.4 - **[Encoding and Feature Scaling](#enc)**\n",
        "3. **[What is Regularization](#lr)**\n",
        "    - 3.1 - **[Understanding the need of Regularization](#gi)**\n",
        "    - 3.2 - **[Understanding the L2 Regularization or Ridge Regression](#gi)**\n",
        "    - 3.3 - **[Understanding the L1 Regularization or Lasso Regression](#mf)**\n",
        "    - 3.4 - **[Understanding the Elastic Net](#sf)**\n",
        "4. **[Splitting the data into Train and Test](#sd)**\n",
        "5. **[Creating the model on training dataset](#model)**\n",
        "6. **[Run the model on the Test Dataset](#test)**\n",
        "7. **[Check the accuracy of the model](#acc)**\n",
        "    - 7.1 - **[Accuracy Score](#accscore)**\n",
        "    - 7.2 - **[Confusion Matrix](#cm)**\n",
        "    - 7.3 - **[ROC Curve](#roc)**\n",
        "    - 7.4 - **[F1 Score](#f1score)**\n",
        "    - 7.5 - **[Log Loss](#logloss)**\n",
        "8. **[Comparing the Training and Testing Accuracies](#overunder)**\n",
        "9. **[Applying K-Fold Cross Validation to find the best value of Lamda](#kfcv)**"
      ]
    },
    {
      "cell_type": "markdown",
      "id": "dc7b1c6c",
      "metadata": {
        "id": "dc7b1c6c"
      },
      "source": [
        "<a id=\"lib\"></a>\n",
        "# 1. Import Libraries"
      ]
    },
    {
      "cell_type": "code",
      "execution_count": 1,
      "id": "78e5cb7c",
      "metadata": {
        "id": "78e5cb7c"
      },
      "outputs": [],
      "source": [
        "#Importing the libraries which will be helpful for the data analysis.\n",
        "import numpy as np\n",
        "import pandas as pd\n",
        "import matplotlib.pyplot as plt\n",
        "import seaborn as sns"
      ]
    },
    {
      "cell_type": "markdown",
      "id": "2ffa675e",
      "metadata": {
        "id": "2ffa675e"
      },
      "source": [
        "<a id=\"prep\"></a>\n",
        "# 2. Data Preparation"
      ]
    },
    {
      "cell_type": "code",
      "execution_count": 2,
      "id": "562b4203",
      "metadata": {
        "id": "562b4203"
      },
      "outputs": [],
      "source": [
        "#Importing the dataset which we will use for the modelling\n",
        "dataset = pd.read_csv('/content/gender_classification_v7.csv')"
      ]
    },
    {
      "cell_type": "markdown",
      "id": "70cdf1f0",
      "metadata": {
        "id": "70cdf1f0"
      },
      "source": [
        "<a id=\"read\"></a>\n",
        "# 2.1. Understand the Data"
      ]
    },
    {
      "cell_type": "code",
      "execution_count": 3,
      "id": "2bac8a30",
      "metadata": {
        "colab": {
          "base_uri": "https://localhost:8080/"
        },
        "id": "2bac8a30",
        "outputId": "53ff2c0a-5b05-4516-c033-902cd0a56fd7"
      },
      "outputs": [
        {
          "output_type": "stream",
          "name": "stdout",
          "text": [
            "<class 'pandas.core.frame.DataFrame'>\n",
            "RangeIndex: 5001 entries, 0 to 5000\n",
            "Data columns (total 8 columns):\n",
            " #   Column                     Non-Null Count  Dtype  \n",
            "---  ------                     --------------  -----  \n",
            " 0   long_hair                  5001 non-null   int64  \n",
            " 1   forehead_width_cm          5001 non-null   float64\n",
            " 2   forehead_height_cm         5001 non-null   float64\n",
            " 3   nose_wide                  5001 non-null   int64  \n",
            " 4   nose_long                  5001 non-null   int64  \n",
            " 5   lips_thin                  5001 non-null   int64  \n",
            " 6   distance_nose_to_lip_long  5001 non-null   int64  \n",
            " 7   gender                     5001 non-null   object \n",
            "dtypes: float64(2), int64(5), object(1)\n",
            "memory usage: 312.7+ KB\n"
          ]
        }
      ],
      "source": [
        "#Here are the few commands which will help us to understand the basic data\n",
        "#The info command will help us to understand the different columns present in the dataset and its datatype\n",
        "dataset.info()"
      ]
    },
    {
      "cell_type": "code",
      "execution_count": null,
      "id": "0491829d",
      "metadata": {
        "colab": {
          "base_uri": "https://localhost:8080/"
        },
        "id": "0491829d",
        "outputId": "d33f808f-b9b1-4595-8b01-82e5a85879dd"
      },
      "outputs": [
        {
          "data": {
            "text/plain": [
              "5001"
            ]
          },
          "execution_count": 5,
          "metadata": {},
          "output_type": "execute_result"
        }
      ],
      "source": [
        "#Len command will help us understand the total number of records present in the dataset\n",
        "len(dataset)"
      ]
    },
    {
      "cell_type": "code",
      "execution_count": null,
      "id": "6a5ba0b8",
      "metadata": {
        "colab": {
          "base_uri": "https://localhost:8080/"
        },
        "id": "6a5ba0b8",
        "outputId": "f524f42b-b2cb-4cba-fb5e-c01cd63a3adf"
      },
      "outputs": [
        {
          "data": {
            "text/plain": [
              "Index(['long_hair', 'forehead_width_cm', 'forehead_height_cm', 'nose_wide',\n",
              "       'nose_long', 'lips_thin', 'distance_nose_to_lip_long', 'gender'],\n",
              "      dtype='object')"
            ]
          },
          "execution_count": 6,
          "metadata": {},
          "output_type": "execute_result"
        }
      ],
      "source": [
        "#.columns command will help us understand the columns present in the dataset\n",
        "dataset.columns"
      ]
    },
    {
      "cell_type": "code",
      "execution_count": null,
      "id": "c90d8167",
      "metadata": {
        "colab": {
          "base_uri": "https://localhost:8080/",
          "height": 423
        },
        "id": "c90d8167",
        "outputId": "0034bc09-121a-4206-ce9c-2d3eec8edb93"
      },
      "outputs": [
        {
          "data": {
            "application/vnd.google.colaboratory.intrinsic+json": {
              "summary": "{\n  \"name\": \"dataset\",\n  \"rows\": 5001,\n  \"fields\": [\n    {\n      \"column\": \"long_hair\",\n      \"properties\": {\n        \"dtype\": \"number\",\n        \"std\": 0,\n        \"min\": 0,\n        \"max\": 1,\n        \"num_unique_values\": 2,\n        \"samples\": [\n          0,\n          1\n        ],\n        \"semantic_type\": \"\",\n        \"description\": \"\"\n      }\n    },\n    {\n      \"column\": \"forehead_width_cm\",\n      \"properties\": {\n        \"dtype\": \"number\",\n        \"std\": 1.1071283024945044,\n        \"min\": 11.4,\n        \"max\": 15.5,\n        \"num_unique_values\": 42,\n        \"samples\": [\n          11.4,\n          15.2\n        ],\n        \"semantic_type\": \"\",\n        \"description\": \"\"\n      }\n    },\n    {\n      \"column\": \"forehead_height_cm\",\n      \"properties\": {\n        \"dtype\": \"number\",\n        \"std\": 0.5412678510891585,\n        \"min\": 5.1,\n        \"max\": 7.1,\n        \"num_unique_values\": 21,\n        \"samples\": [\n          6.1,\n          5.5\n        ],\n        \"semantic_type\": \"\",\n        \"description\": \"\"\n      }\n    },\n    {\n      \"column\": \"nose_wide\",\n      \"properties\": {\n        \"dtype\": \"number\",\n        \"std\": 0,\n        \"min\": 0,\n        \"max\": 1,\n        \"num_unique_values\": 2,\n        \"samples\": [\n          0,\n          1\n        ],\n        \"semantic_type\": \"\",\n        \"description\": \"\"\n      }\n    },\n    {\n      \"column\": \"nose_long\",\n      \"properties\": {\n        \"dtype\": \"number\",\n        \"std\": 0,\n        \"min\": 0,\n        \"max\": 1,\n        \"num_unique_values\": 2,\n        \"samples\": [\n          1,\n          0\n        ],\n        \"semantic_type\": \"\",\n        \"description\": \"\"\n      }\n    },\n    {\n      \"column\": \"lips_thin\",\n      \"properties\": {\n        \"dtype\": \"number\",\n        \"std\": 0,\n        \"min\": 0,\n        \"max\": 1,\n        \"num_unique_values\": 2,\n        \"samples\": [\n          0,\n          1\n        ],\n        \"semantic_type\": \"\",\n        \"description\": \"\"\n      }\n    },\n    {\n      \"column\": \"distance_nose_to_lip_long\",\n      \"properties\": {\n        \"dtype\": \"number\",\n        \"std\": 0,\n        \"min\": 0,\n        \"max\": 1,\n        \"num_unique_values\": 2,\n        \"samples\": [\n          0,\n          1\n        ],\n        \"semantic_type\": \"\",\n        \"description\": \"\"\n      }\n    },\n    {\n      \"column\": \"gender\",\n      \"properties\": {\n        \"dtype\": \"category\",\n        \"num_unique_values\": 2,\n        \"samples\": [\n          \"Female\",\n          \"Male\"\n        ],\n        \"semantic_type\": \"\",\n        \"description\": \"\"\n      }\n    }\n  ]\n}",
              "type": "dataframe",
              "variable_name": "dataset"
            },
            "text/html": [
              "\n",
              "  <div id=\"df-3ff471e2-b547-4429-b6e6-6f252a5b0125\" class=\"colab-df-container\">\n",
              "    <div>\n",
              "<style scoped>\n",
              "    .dataframe tbody tr th:only-of-type {\n",
              "        vertical-align: middle;\n",
              "    }\n",
              "\n",
              "    .dataframe tbody tr th {\n",
              "        vertical-align: top;\n",
              "    }\n",
              "\n",
              "    .dataframe thead th {\n",
              "        text-align: right;\n",
              "    }\n",
              "</style>\n",
              "<table border=\"1\" class=\"dataframe\">\n",
              "  <thead>\n",
              "    <tr style=\"text-align: right;\">\n",
              "      <th></th>\n",
              "      <th>long_hair</th>\n",
              "      <th>forehead_width_cm</th>\n",
              "      <th>forehead_height_cm</th>\n",
              "      <th>nose_wide</th>\n",
              "      <th>nose_long</th>\n",
              "      <th>lips_thin</th>\n",
              "      <th>distance_nose_to_lip_long</th>\n",
              "      <th>gender</th>\n",
              "    </tr>\n",
              "  </thead>\n",
              "  <tbody>\n",
              "    <tr>\n",
              "      <th>0</th>\n",
              "      <td>1</td>\n",
              "      <td>11.8</td>\n",
              "      <td>6.1</td>\n",
              "      <td>1</td>\n",
              "      <td>0</td>\n",
              "      <td>1</td>\n",
              "      <td>1</td>\n",
              "      <td>Male</td>\n",
              "    </tr>\n",
              "    <tr>\n",
              "      <th>1</th>\n",
              "      <td>0</td>\n",
              "      <td>14.0</td>\n",
              "      <td>5.4</td>\n",
              "      <td>0</td>\n",
              "      <td>0</td>\n",
              "      <td>1</td>\n",
              "      <td>0</td>\n",
              "      <td>Female</td>\n",
              "    </tr>\n",
              "    <tr>\n",
              "      <th>2</th>\n",
              "      <td>0</td>\n",
              "      <td>11.8</td>\n",
              "      <td>6.3</td>\n",
              "      <td>1</td>\n",
              "      <td>1</td>\n",
              "      <td>1</td>\n",
              "      <td>1</td>\n",
              "      <td>Male</td>\n",
              "    </tr>\n",
              "    <tr>\n",
              "      <th>3</th>\n",
              "      <td>0</td>\n",
              "      <td>14.4</td>\n",
              "      <td>6.1</td>\n",
              "      <td>0</td>\n",
              "      <td>1</td>\n",
              "      <td>1</td>\n",
              "      <td>1</td>\n",
              "      <td>Male</td>\n",
              "    </tr>\n",
              "    <tr>\n",
              "      <th>4</th>\n",
              "      <td>1</td>\n",
              "      <td>13.5</td>\n",
              "      <td>5.9</td>\n",
              "      <td>0</td>\n",
              "      <td>0</td>\n",
              "      <td>0</td>\n",
              "      <td>0</td>\n",
              "      <td>Female</td>\n",
              "    </tr>\n",
              "    <tr>\n",
              "      <th>...</th>\n",
              "      <td>...</td>\n",
              "      <td>...</td>\n",
              "      <td>...</td>\n",
              "      <td>...</td>\n",
              "      <td>...</td>\n",
              "      <td>...</td>\n",
              "      <td>...</td>\n",
              "      <td>...</td>\n",
              "    </tr>\n",
              "    <tr>\n",
              "      <th>4996</th>\n",
              "      <td>1</td>\n",
              "      <td>13.6</td>\n",
              "      <td>5.1</td>\n",
              "      <td>0</td>\n",
              "      <td>0</td>\n",
              "      <td>0</td>\n",
              "      <td>0</td>\n",
              "      <td>Female</td>\n",
              "    </tr>\n",
              "    <tr>\n",
              "      <th>4997</th>\n",
              "      <td>1</td>\n",
              "      <td>11.9</td>\n",
              "      <td>5.4</td>\n",
              "      <td>0</td>\n",
              "      <td>0</td>\n",
              "      <td>0</td>\n",
              "      <td>0</td>\n",
              "      <td>Female</td>\n",
              "    </tr>\n",
              "    <tr>\n",
              "      <th>4998</th>\n",
              "      <td>1</td>\n",
              "      <td>12.9</td>\n",
              "      <td>5.7</td>\n",
              "      <td>0</td>\n",
              "      <td>0</td>\n",
              "      <td>0</td>\n",
              "      <td>0</td>\n",
              "      <td>Female</td>\n",
              "    </tr>\n",
              "    <tr>\n",
              "      <th>4999</th>\n",
              "      <td>1</td>\n",
              "      <td>13.2</td>\n",
              "      <td>6.2</td>\n",
              "      <td>0</td>\n",
              "      <td>0</td>\n",
              "      <td>0</td>\n",
              "      <td>0</td>\n",
              "      <td>Female</td>\n",
              "    </tr>\n",
              "    <tr>\n",
              "      <th>5000</th>\n",
              "      <td>1</td>\n",
              "      <td>15.4</td>\n",
              "      <td>5.4</td>\n",
              "      <td>1</td>\n",
              "      <td>1</td>\n",
              "      <td>1</td>\n",
              "      <td>1</td>\n",
              "      <td>Male</td>\n",
              "    </tr>\n",
              "  </tbody>\n",
              "</table>\n",
              "<p>5001 rows × 8 columns</p>\n",
              "</div>\n",
              "    <div class=\"colab-df-buttons\">\n",
              "\n",
              "  <div class=\"colab-df-container\">\n",
              "    <button class=\"colab-df-convert\" onclick=\"convertToInteractive('df-3ff471e2-b547-4429-b6e6-6f252a5b0125')\"\n",
              "            title=\"Convert this dataframe to an interactive table.\"\n",
              "            style=\"display:none;\">\n",
              "\n",
              "  <svg xmlns=\"http://www.w3.org/2000/svg\" height=\"24px\" viewBox=\"0 -960 960 960\">\n",
              "    <path d=\"M120-120v-720h720v720H120Zm60-500h600v-160H180v160Zm220 220h160v-160H400v160Zm0 220h160v-160H400v160ZM180-400h160v-160H180v160Zm440 0h160v-160H620v160ZM180-180h160v-160H180v160Zm440 0h160v-160H620v160Z\"/>\n",
              "  </svg>\n",
              "    </button>\n",
              "\n",
              "  <style>\n",
              "    .colab-df-container {\n",
              "      display:flex;\n",
              "      gap: 12px;\n",
              "    }\n",
              "\n",
              "    .colab-df-convert {\n",
              "      background-color: #E8F0FE;\n",
              "      border: none;\n",
              "      border-radius: 50%;\n",
              "      cursor: pointer;\n",
              "      display: none;\n",
              "      fill: #1967D2;\n",
              "      height: 32px;\n",
              "      padding: 0 0 0 0;\n",
              "      width: 32px;\n",
              "    }\n",
              "\n",
              "    .colab-df-convert:hover {\n",
              "      background-color: #E2EBFA;\n",
              "      box-shadow: 0px 1px 2px rgba(60, 64, 67, 0.3), 0px 1px 3px 1px rgba(60, 64, 67, 0.15);\n",
              "      fill: #174EA6;\n",
              "    }\n",
              "\n",
              "    .colab-df-buttons div {\n",
              "      margin-bottom: 4px;\n",
              "    }\n",
              "\n",
              "    [theme=dark] .colab-df-convert {\n",
              "      background-color: #3B4455;\n",
              "      fill: #D2E3FC;\n",
              "    }\n",
              "\n",
              "    [theme=dark] .colab-df-convert:hover {\n",
              "      background-color: #434B5C;\n",
              "      box-shadow: 0px 1px 3px 1px rgba(0, 0, 0, 0.15);\n",
              "      filter: drop-shadow(0px 1px 2px rgba(0, 0, 0, 0.3));\n",
              "      fill: #FFFFFF;\n",
              "    }\n",
              "  </style>\n",
              "\n",
              "    <script>\n",
              "      const buttonEl =\n",
              "        document.querySelector('#df-3ff471e2-b547-4429-b6e6-6f252a5b0125 button.colab-df-convert');\n",
              "      buttonEl.style.display =\n",
              "        google.colab.kernel.accessAllowed ? 'block' : 'none';\n",
              "\n",
              "      async function convertToInteractive(key) {\n",
              "        const element = document.querySelector('#df-3ff471e2-b547-4429-b6e6-6f252a5b0125');\n",
              "        const dataTable =\n",
              "          await google.colab.kernel.invokeFunction('convertToInteractive',\n",
              "                                                    [key], {});\n",
              "        if (!dataTable) return;\n",
              "\n",
              "        const docLinkHtml = 'Like what you see? Visit the ' +\n",
              "          '<a target=\"_blank\" href=https://colab.research.google.com/notebooks/data_table.ipynb>data table notebook</a>'\n",
              "          + ' to learn more about interactive tables.';\n",
              "        element.innerHTML = '';\n",
              "        dataTable['output_type'] = 'display_data';\n",
              "        await google.colab.output.renderOutput(dataTable, element);\n",
              "        const docLink = document.createElement('div');\n",
              "        docLink.innerHTML = docLinkHtml;\n",
              "        element.appendChild(docLink);\n",
              "      }\n",
              "    </script>\n",
              "  </div>\n",
              "\n",
              "\n",
              "<div id=\"df-82934e65-8090-437f-a95d-77dd196b021c\">\n",
              "  <button class=\"colab-df-quickchart\" onclick=\"quickchart('df-82934e65-8090-437f-a95d-77dd196b021c')\"\n",
              "            title=\"Suggest charts\"\n",
              "            style=\"display:none;\">\n",
              "\n",
              "<svg xmlns=\"http://www.w3.org/2000/svg\" height=\"24px\"viewBox=\"0 0 24 24\"\n",
              "     width=\"24px\">\n",
              "    <g>\n",
              "        <path d=\"M19 3H5c-1.1 0-2 .9-2 2v14c0 1.1.9 2 2 2h14c1.1 0 2-.9 2-2V5c0-1.1-.9-2-2-2zM9 17H7v-7h2v7zm4 0h-2V7h2v10zm4 0h-2v-4h2v4z\"/>\n",
              "    </g>\n",
              "</svg>\n",
              "  </button>\n",
              "\n",
              "<style>\n",
              "  .colab-df-quickchart {\n",
              "      --bg-color: #E8F0FE;\n",
              "      --fill-color: #1967D2;\n",
              "      --hover-bg-color: #E2EBFA;\n",
              "      --hover-fill-color: #174EA6;\n",
              "      --disabled-fill-color: #AAA;\n",
              "      --disabled-bg-color: #DDD;\n",
              "  }\n",
              "\n",
              "  [theme=dark] .colab-df-quickchart {\n",
              "      --bg-color: #3B4455;\n",
              "      --fill-color: #D2E3FC;\n",
              "      --hover-bg-color: #434B5C;\n",
              "      --hover-fill-color: #FFFFFF;\n",
              "      --disabled-bg-color: #3B4455;\n",
              "      --disabled-fill-color: #666;\n",
              "  }\n",
              "\n",
              "  .colab-df-quickchart {\n",
              "    background-color: var(--bg-color);\n",
              "    border: none;\n",
              "    border-radius: 50%;\n",
              "    cursor: pointer;\n",
              "    display: none;\n",
              "    fill: var(--fill-color);\n",
              "    height: 32px;\n",
              "    padding: 0;\n",
              "    width: 32px;\n",
              "  }\n",
              "\n",
              "  .colab-df-quickchart:hover {\n",
              "    background-color: var(--hover-bg-color);\n",
              "    box-shadow: 0 1px 2px rgba(60, 64, 67, 0.3), 0 1px 3px 1px rgba(60, 64, 67, 0.15);\n",
              "    fill: var(--button-hover-fill-color);\n",
              "  }\n",
              "\n",
              "  .colab-df-quickchart-complete:disabled,\n",
              "  .colab-df-quickchart-complete:disabled:hover {\n",
              "    background-color: var(--disabled-bg-color);\n",
              "    fill: var(--disabled-fill-color);\n",
              "    box-shadow: none;\n",
              "  }\n",
              "\n",
              "  .colab-df-spinner {\n",
              "    border: 2px solid var(--fill-color);\n",
              "    border-color: transparent;\n",
              "    border-bottom-color: var(--fill-color);\n",
              "    animation:\n",
              "      spin 1s steps(1) infinite;\n",
              "  }\n",
              "\n",
              "  @keyframes spin {\n",
              "    0% {\n",
              "      border-color: transparent;\n",
              "      border-bottom-color: var(--fill-color);\n",
              "      border-left-color: var(--fill-color);\n",
              "    }\n",
              "    20% {\n",
              "      border-color: transparent;\n",
              "      border-left-color: var(--fill-color);\n",
              "      border-top-color: var(--fill-color);\n",
              "    }\n",
              "    30% {\n",
              "      border-color: transparent;\n",
              "      border-left-color: var(--fill-color);\n",
              "      border-top-color: var(--fill-color);\n",
              "      border-right-color: var(--fill-color);\n",
              "    }\n",
              "    40% {\n",
              "      border-color: transparent;\n",
              "      border-right-color: var(--fill-color);\n",
              "      border-top-color: var(--fill-color);\n",
              "    }\n",
              "    60% {\n",
              "      border-color: transparent;\n",
              "      border-right-color: var(--fill-color);\n",
              "    }\n",
              "    80% {\n",
              "      border-color: transparent;\n",
              "      border-right-color: var(--fill-color);\n",
              "      border-bottom-color: var(--fill-color);\n",
              "    }\n",
              "    90% {\n",
              "      border-color: transparent;\n",
              "      border-bottom-color: var(--fill-color);\n",
              "    }\n",
              "  }\n",
              "</style>\n",
              "\n",
              "  <script>\n",
              "    async function quickchart(key) {\n",
              "      const quickchartButtonEl =\n",
              "        document.querySelector('#' + key + ' button');\n",
              "      quickchartButtonEl.disabled = true;  // To prevent multiple clicks.\n",
              "      quickchartButtonEl.classList.add('colab-df-spinner');\n",
              "      try {\n",
              "        const charts = await google.colab.kernel.invokeFunction(\n",
              "            'suggestCharts', [key], {});\n",
              "      } catch (error) {\n",
              "        console.error('Error during call to suggestCharts:', error);\n",
              "      }\n",
              "      quickchartButtonEl.classList.remove('colab-df-spinner');\n",
              "      quickchartButtonEl.classList.add('colab-df-quickchart-complete');\n",
              "    }\n",
              "    (() => {\n",
              "      let quickchartButtonEl =\n",
              "        document.querySelector('#df-82934e65-8090-437f-a95d-77dd196b021c button');\n",
              "      quickchartButtonEl.style.display =\n",
              "        google.colab.kernel.accessAllowed ? 'block' : 'none';\n",
              "    })();\n",
              "  </script>\n",
              "</div>\n",
              "\n",
              "  <div id=\"id_a19d9bad-59cf-4ff7-bc7e-78feacc88c31\">\n",
              "    <style>\n",
              "      .colab-df-generate {\n",
              "        background-color: #E8F0FE;\n",
              "        border: none;\n",
              "        border-radius: 50%;\n",
              "        cursor: pointer;\n",
              "        display: none;\n",
              "        fill: #1967D2;\n",
              "        height: 32px;\n",
              "        padding: 0 0 0 0;\n",
              "        width: 32px;\n",
              "      }\n",
              "\n",
              "      .colab-df-generate:hover {\n",
              "        background-color: #E2EBFA;\n",
              "        box-shadow: 0px 1px 2px rgba(60, 64, 67, 0.3), 0px 1px 3px 1px rgba(60, 64, 67, 0.15);\n",
              "        fill: #174EA6;\n",
              "      }\n",
              "\n",
              "      [theme=dark] .colab-df-generate {\n",
              "        background-color: #3B4455;\n",
              "        fill: #D2E3FC;\n",
              "      }\n",
              "\n",
              "      [theme=dark] .colab-df-generate:hover {\n",
              "        background-color: #434B5C;\n",
              "        box-shadow: 0px 1px 3px 1px rgba(0, 0, 0, 0.15);\n",
              "        filter: drop-shadow(0px 1px 2px rgba(0, 0, 0, 0.3));\n",
              "        fill: #FFFFFF;\n",
              "      }\n",
              "    </style>\n",
              "    <button class=\"colab-df-generate\" onclick=\"generateWithVariable('dataset')\"\n",
              "            title=\"Generate code using this dataframe.\"\n",
              "            style=\"display:none;\">\n",
              "\n",
              "  <svg xmlns=\"http://www.w3.org/2000/svg\" height=\"24px\"viewBox=\"0 0 24 24\"\n",
              "       width=\"24px\">\n",
              "    <path d=\"M7,19H8.4L18.45,9,17,7.55,7,17.6ZM5,21V16.75L18.45,3.32a2,2,0,0,1,2.83,0l1.4,1.43a1.91,1.91,0,0,1,.58,1.4,1.91,1.91,0,0,1-.58,1.4L9.25,21ZM18.45,9,17,7.55Zm-12,3A5.31,5.31,0,0,0,4.9,8.1,5.31,5.31,0,0,0,1,6.5,5.31,5.31,0,0,0,4.9,4.9,5.31,5.31,0,0,0,6.5,1,5.31,5.31,0,0,0,8.1,4.9,5.31,5.31,0,0,0,12,6.5,5.46,5.46,0,0,0,6.5,12Z\"/>\n",
              "  </svg>\n",
              "    </button>\n",
              "    <script>\n",
              "      (() => {\n",
              "      const buttonEl =\n",
              "        document.querySelector('#id_a19d9bad-59cf-4ff7-bc7e-78feacc88c31 button.colab-df-generate');\n",
              "      buttonEl.style.display =\n",
              "        google.colab.kernel.accessAllowed ? 'block' : 'none';\n",
              "\n",
              "      buttonEl.onclick = () => {\n",
              "        google.colab.notebook.generateWithVariable('dataset');\n",
              "      }\n",
              "      })();\n",
              "    </script>\n",
              "  </div>\n",
              "\n",
              "    </div>\n",
              "  </div>\n"
            ],
            "text/plain": [
              "      long_hair  forehead_width_cm  forehead_height_cm  nose_wide  nose_long  \\\n",
              "0             1               11.8                 6.1          1          0   \n",
              "1             0               14.0                 5.4          0          0   \n",
              "2             0               11.8                 6.3          1          1   \n",
              "3             0               14.4                 6.1          0          1   \n",
              "4             1               13.5                 5.9          0          0   \n",
              "...         ...                ...                 ...        ...        ...   \n",
              "4996          1               13.6                 5.1          0          0   \n",
              "4997          1               11.9                 5.4          0          0   \n",
              "4998          1               12.9                 5.7          0          0   \n",
              "4999          1               13.2                 6.2          0          0   \n",
              "5000          1               15.4                 5.4          1          1   \n",
              "\n",
              "      lips_thin  distance_nose_to_lip_long  gender  \n",
              "0             1                          1    Male  \n",
              "1             1                          0  Female  \n",
              "2             1                          1    Male  \n",
              "3             1                          1    Male  \n",
              "4             0                          0  Female  \n",
              "...         ...                        ...     ...  \n",
              "4996          0                          0  Female  \n",
              "4997          0                          0  Female  \n",
              "4998          0                          0  Female  \n",
              "4999          0                          0  Female  \n",
              "5000          1                          1    Male  \n",
              "\n",
              "[5001 rows x 8 columns]"
            ]
          },
          "execution_count": 7,
          "metadata": {},
          "output_type": "execute_result"
        }
      ],
      "source": [
        "dataset"
      ]
    },
    {
      "cell_type": "code",
      "execution_count": null,
      "id": "0c4edbad",
      "metadata": {
        "id": "0c4edbad",
        "outputId": "614f2ac2-0f05-47df-e005-8a4a3a1e8f50"
      },
      "outputs": [
        {
          "data": {
            "text/plain": [
              "8"
            ]
          },
          "execution_count": 7,
          "metadata": {},
          "output_type": "execute_result"
        }
      ],
      "source": [
        "#The below command will help us understand the total number of columns present in the dataset\n",
        "len(dataset.columns)"
      ]
    },
    {
      "cell_type": "markdown",
      "id": "151798df",
      "metadata": {
        "id": "151798df"
      },
      "source": [
        "<a id=\"eda\"></a>\n",
        "# 2.2. Exploratory Data Analysis"
      ]
    },
    {
      "cell_type": "code",
      "execution_count": null,
      "id": "7458561a",
      "metadata": {
        "id": "7458561a",
        "outputId": "d4efccc9-74c2-4846-cd43-c60e85798607"
      },
      "outputs": [
        {
          "data": {
            "text/plain": [
              "<Figure size 1500x200 with 0 Axes>"
            ]
          },
          "metadata": {},
          "output_type": "display_data"
        },
        {
          "data": {
            "image/png": "[encoded data removed]",
            "text/plain": [
              "<Figure size 600.25x500 with 6 Axes>"
            ]
          },
          "metadata": {},
          "output_type": "display_data"
        }
      ],
      "source": [
        "plt.figure(figsize=(15,2))\n",
        "sns.pairplot(dataset[['forehead_width_cm','forehead_height_cm','gender']],hue='gender')\n",
        "plt.show()"
      ]
    },
    {
      "cell_type": "markdown",
      "id": "e60a610c",
      "metadata": {
        "id": "e60a610c"
      },
      "source": [
        "**From the above chart we can see that the forehead width and height is less for the females**"
      ]
    },
    {
      "cell_type": "code",
      "execution_count": null,
      "id": "a33f626d",
      "metadata": {
        "id": "a33f626d",
        "outputId": "3b5d30e9-8458-4f8a-e599-7789141c2030"
      },
      "outputs": [
        {
          "data": {
            "text/plain": [
              "<AxesSubplot:xlabel='long_hair', ylabel='count'>"
            ]
          },
          "execution_count": 9,
          "metadata": {},
          "output_type": "execute_result"
        },
        {
          "data": {
            "image/png": "[encoded data removed]",
            "text/plain": [
              "<Figure size 1500x200 with 1 Axes>"
            ]
          },
          "metadata": {},
          "output_type": "display_data"
        }
      ],
      "source": [
        "plt.figure(figsize=(15,2))\n",
        "sns.countplot(data=dataset, x='long_hair',hue='gender')"
      ]
    },
    {
      "cell_type": "markdown",
      "id": "fbf4fdfe",
      "metadata": {
        "id": "fbf4fdfe"
      },
      "source": [
        "**From the above chart we can see that both males and females are having short as well as long hair**"
      ]
    },
    {
      "cell_type": "code",
      "execution_count": null,
      "id": "e2a52695",
      "metadata": {
        "id": "e2a52695",
        "outputId": "43b5775b-ff98-4b06-c1c1-85e1dca39770"
      },
      "outputs": [
        {
          "data": {
            "text/plain": [
              "<AxesSubplot:xlabel='nose_wide', ylabel='count'>"
            ]
          },
          "execution_count": 10,
          "metadata": {},
          "output_type": "execute_result"
        },
        {
          "data": {
            "image/png": "[encoded data removed]",
            "text/plain": [
              "<Figure size 1500x200 with 1 Axes>"
            ]
          },
          "metadata": {},
          "output_type": "display_data"
        }
      ],
      "source": [
        "plt.figure(figsize=(15,2))\n",
        "sns.countplot(data=dataset, x='nose_wide',hue='gender')"
      ]
    },
    {
      "cell_type": "markdown",
      "id": "61423100",
      "metadata": {
        "id": "61423100"
      },
      "source": [
        "**From the above chart we can see that the nose width is more for males as compare to females**"
      ]
    },
    {
      "cell_type": "code",
      "execution_count": null,
      "id": "f3cc624b",
      "metadata": {
        "id": "f3cc624b",
        "outputId": "25fc4f21-01f2-4069-b5ad-9300ad242a8c"
      },
      "outputs": [
        {
          "data": {
            "text/plain": [
              "<AxesSubplot:xlabel='nose_long', ylabel='count'>"
            ]
          },
          "execution_count": 11,
          "metadata": {},
          "output_type": "execute_result"
        },
        {
          "data": {
            "image/png": "[encoded data removed]",
            "text/plain": [
              "<Figure size 1500x200 with 1 Axes>"
            ]
          },
          "metadata": {},
          "output_type": "display_data"
        }
      ],
      "source": [
        "plt.figure(figsize=(15,2))\n",
        "sns.countplot(data=dataset, x='nose_long',hue='gender')"
      ]
    },
    {
      "cell_type": "markdown",
      "id": "22292081",
      "metadata": {
        "id": "22292081"
      },
      "source": [
        "**From the above chart we can see that the nose are longer for the males as compare to females**"
      ]
    },
    {
      "cell_type": "code",
      "execution_count": null,
      "id": "4861e921",
      "metadata": {
        "id": "4861e921",
        "outputId": "f8b122d1-87ab-445f-a78e-6645b7325b5e"
      },
      "outputs": [
        {
          "data": {
            "text/plain": [
              "<AxesSubplot:xlabel='lips_thin', ylabel='count'>"
            ]
          },
          "execution_count": 12,
          "metadata": {},
          "output_type": "execute_result"
        },
        {
          "data": {
            "image/png": "[encoded data removed]",
            "text/plain": [
              "<Figure size 1500x200 with 1 Axes>"
            ]
          },
          "metadata": {},
          "output_type": "display_data"
        }
      ],
      "source": [
        "plt.figure(figsize=(15,2))\n",
        "sns.countplot(data=dataset, x='lips_thin',hue='gender')"
      ]
    },
    {
      "cell_type": "markdown",
      "id": "7c8c5d7f",
      "metadata": {
        "id": "7c8c5d7f"
      },
      "source": [
        "**From the above chart we can see that the lips are thinner for males than the females**"
      ]
    },
    {
      "cell_type": "code",
      "execution_count": null,
      "id": "a68f9dde",
      "metadata": {
        "id": "a68f9dde",
        "outputId": "9e37161a-0fc3-4f8d-c974-456392407a05"
      },
      "outputs": [
        {
          "data": {
            "text/plain": [
              "<AxesSubplot:xlabel='distance_nose_to_lip_long', ylabel='count'>"
            ]
          },
          "execution_count": 13,
          "metadata": {},
          "output_type": "execute_result"
        },
        {
          "data": {
            "image/png": "[encoded data removed]",
            "text/plain": [
              "<Figure size 1500x200 with 1 Axes>"
            ]
          },
          "metadata": {},
          "output_type": "display_data"
        }
      ],
      "source": [
        "plt.figure(figsize=(15,2))\n",
        "sns.countplot(data=dataset, x='distance_nose_to_lip_long',hue='gender')"
      ]
    },
    {
      "cell_type": "markdown",
      "id": "abee2e8f",
      "metadata": {
        "id": "abee2e8f"
      },
      "source": [
        "**From the above chart we can see that the distance from the nose to the lip is more for the males than the females**"
      ]
    },
    {
      "cell_type": "markdown",
      "id": "bfd64112",
      "metadata": {
        "id": "bfd64112"
      },
      "source": [
        "<a id=\"null\"></a>\n",
        "# 2.3. Missing Value Treatment"
      ]
    },
    {
      "cell_type": "code",
      "execution_count": null,
      "id": "8c27a789",
      "metadata": {
        "colab": {
          "base_uri": "https://localhost:8080/"
        },
        "id": "8c27a789",
        "outputId": "b750faa5-07c6-402f-a192-5de7f2160bdd"
      },
      "outputs": [
        {
          "data": {
            "text/plain": [
              "long_hair                    0.0\n",
              "forehead_width_cm            0.0\n",
              "forehead_height_cm           0.0\n",
              "nose_wide                    0.0\n",
              "nose_long                    0.0\n",
              "lips_thin                    0.0\n",
              "distance_nose_to_lip_long    0.0\n",
              "gender                       0.0\n",
              "dtype: float64"
            ]
          },
          "execution_count": 8,
          "metadata": {},
          "output_type": "execute_result"
        }
      ],
      "source": [
        "#Checking the count of the missing values percentage, there are very few missing values there in the dataset\n",
        "dataset.isnull().sum()/len(dataset)*100"
      ]
    },
    {
      "cell_type": "code",
      "execution_count": null,
      "id": "23f6d579",
      "metadata": {
        "id": "23f6d579"
      },
      "outputs": [],
      "source": [
        "#Missing Value Imputation - We can impute the missing values using the methods of mean, median and mode based on the various scenarios\n",
        "#When there is a numerical field we can populate the missing values using mean or median,\n",
        "#if there are outliers in the dataset we use to populate the missing values using median else mean\n",
        "#When we want to populate the missing values in the categorial files we go with mode as an option"
      ]
    },
    {
      "cell_type": "markdown",
      "id": "cbd3f394",
      "metadata": {
        "id": "cbd3f394"
      },
      "source": [
        "<a id=\"enc\"></a>\n",
        "# 2.4. Encoding and Feature Scaling"
      ]
    },
    {
      "cell_type": "code",
      "execution_count": null,
      "id": "7fe4a663",
      "metadata": {
        "id": "7fe4a663"
      },
      "outputs": [],
      "source": [
        "# Separating the numerical and categorical columns\n",
        "from sklearn.preprocessing import StandardScaler\n",
        "def data_type(dataset):\n",
        "    \"\"\"\n",
        "    Function to identify the numerical and categorical data columns\n",
        "    :param dataset: Dataframe\n",
        "    :return: list of numerical and categorical columns\n",
        "    \"\"\"\n",
        "    numerical = []\n",
        "    categorical = []\n",
        "    for i in dataset.columns:\n",
        "        if dataset[i].dtype == 'int64' or dataset[i].dtype == 'float64':\n",
        "            numerical.append(i)\n",
        "        else:\n",
        "            categorical.append(i)\n",
        "    return numerical, categorical\n",
        "\n",
        "\n",
        "numerical, categorical = data_type(dataset)\n",
        "\n",
        "# Identifying the binary columns and ignoring them from scaling\n",
        "def binary_columns(df):\n",
        "    \"\"\"\n",
        "    Generates a list of binary columns in a dataframe.\n",
        "    \"\"\"\n",
        "    binary_cols = []\n",
        "    for col in df.select_dtypes(include=['int', 'float']).columns:\n",
        "        unique_values = df[col].unique()\n",
        "        if np.in1d(unique_values, [0, 1]).all():\n",
        "            binary_cols.append(col)\n",
        "    return binary_cols\n",
        "\n",
        "binary_cols = binary_columns(dataset)\n",
        "\n",
        "# Remove the binary columns from the numerical columns\n",
        "numerical = [i for i in numerical if i not in binary_cols]\n",
        "\n",
        "def encoding(dataset, categorical):\n",
        "    \"\"\"\n",
        "    Function to automate the process of encoding the categorical data\n",
        "    :param dataset: Dataframe\n",
        "    :param categorical: List of categorical columns\n",
        "    :return: Dataframe\n",
        "    \"\"\"\n",
        "    for i in categorical:\n",
        "        dataset[i] = dataset[i].astype('category')\n",
        "        dataset[i] = dataset[i].cat.codes\n",
        "    return dataset\n",
        "\n",
        "dataset = encoding(dataset, categorical)\n",
        "\n",
        "def feature_scaling(dataset, numerical):\n",
        "    \"\"\"\n",
        "    Function to automate the process of feature scaling the numerical data\n",
        "    :param dataset: Dataframe\n",
        "    :param numerical: List of numerical columns\n",
        "    :return: Dataframe\n",
        "    \"\"\"\n",
        "    sc_x = StandardScaler()\n",
        "    dataset[numerical] = sc_x.fit_transform(dataset[numerical])\n",
        "    return dataset\n",
        "\n",
        "dataset = feature_scaling(dataset, numerical)"
      ]
    },
    {
      "cell_type": "code",
      "execution_count": null,
      "id": "4522e100",
      "metadata": {
        "colab": {
          "base_uri": "https://localhost:8080/",
          "height": 423
        },
        "id": "4522e100",
        "outputId": "2326435b-f6d9-4739-9a01-314d01d9130a"
      },
      "outputs": [
        {
          "data": {
            "application/vnd.google.colaboratory.intrinsic+json": {
              "summary": "{\n  \"name\": \"dataset\",\n  \"rows\": 5001,\n  \"fields\": [\n    {\n      \"column\": \"long_hair\",\n      \"properties\": {\n        \"dtype\": \"number\",\n        \"std\": 0,\n        \"min\": 0,\n        \"max\": 1,\n        \"num_unique_values\": 2,\n        \"samples\": [\n          0,\n          1\n        ],\n        \"semantic_type\": \"\",\n        \"description\": \"\"\n      }\n    },\n    {\n      \"column\": \"forehead_width_cm\",\n      \"properties\": {\n        \"dtype\": \"number\",\n        \"std\": 1.0000999950004998,\n        \"min\": -1.609264110319309,\n        \"max\": 2.0943806888094736,\n        \"num_unique_values\": 42,\n        \"samples\": [\n          -1.609264110319309,\n          1.8233822888732205\n        ],\n        \"semantic_type\": \"\",\n        \"description\": \"\"\n      }\n    },\n    {\n      \"column\": \"forehead_height_cm\",\n      \"properties\": {\n        \"dtype\": \"number\",\n        \"std\": 1.0000999950004998,\n        \"min\": -1.5637273911464304,\n        \"max\": 2.131670342112853,\n        \"num_unique_values\": 21,\n        \"samples\": [\n          0.2839714754832112,\n          -0.8246478444945731\n        ],\n        \"semantic_type\": \"\",\n        \"description\": \"\"\n      }\n    },\n    {\n      \"column\": \"nose_wide\",\n      \"properties\": {\n        \"dtype\": \"number\",\n        \"std\": 0,\n        \"min\": 0,\n        \"max\": 1,\n        \"num_unique_values\": 2,\n        \"samples\": [\n          0,\n          1\n        ],\n        \"semantic_type\": \"\",\n        \"description\": \"\"\n      }\n    },\n    {\n      \"column\": \"nose_long\",\n      \"properties\": {\n        \"dtype\": \"number\",\n        \"std\": 0,\n        \"min\": 0,\n        \"max\": 1,\n        \"num_unique_values\": 2,\n        \"samples\": [\n          1,\n          0\n        ],\n        \"semantic_type\": \"\",\n        \"description\": \"\"\n      }\n    },\n    {\n      \"column\": \"lips_thin\",\n      \"properties\": {\n        \"dtype\": \"number\",\n        \"std\": 0,\n        \"min\": 0,\n        \"max\": 1,\n        \"num_unique_values\": 2,\n        \"samples\": [\n          0,\n          1\n        ],\n        \"semantic_type\": \"\",\n        \"description\": \"\"\n      }\n    },\n    {\n      \"column\": \"distance_nose_to_lip_long\",\n      \"properties\": {\n        \"dtype\": \"number\",\n        \"std\": 0,\n        \"min\": 0,\n        \"max\": 1,\n        \"num_unique_values\": 2,\n        \"samples\": [\n          0,\n          1\n        ],\n        \"semantic_type\": \"\",\n        \"description\": \"\"\n      }\n    },\n    {\n      \"column\": \"gender\",\n      \"properties\": {\n        \"dtype\": \"int8\",\n        \"num_unique_values\": 2,\n        \"samples\": [\n          0,\n          1\n        ],\n        \"semantic_type\": \"\",\n        \"description\": \"\"\n      }\n    }\n  ]\n}",
              "type": "dataframe",
              "variable_name": "dataset"
            },
            "text/html": [
              "\n",
              "  <div id=\"df-cbfda12d-e8d8-4203-bd19-17e911a81376\" class=\"colab-df-container\">\n",
              "    <div>\n",
              "<style scoped>\n",
              "    .dataframe tbody tr th:only-of-type {\n",
              "        vertical-align: middle;\n",
              "    }\n",
              "\n",
              "    .dataframe tbody tr th {\n",
              "        vertical-align: top;\n",
              "    }\n",
              "\n",
              "    .dataframe thead th {\n",
              "        text-align: right;\n",
              "    }\n",
              "</style>\n",
              "<table border=\"1\" class=\"dataframe\">\n",
              "  <thead>\n",
              "    <tr style=\"text-align: right;\">\n",
              "      <th></th>\n",
              "      <th>long_hair</th>\n",
              "      <th>forehead_width_cm</th>\n",
              "      <th>forehead_height_cm</th>\n",
              "      <th>nose_wide</th>\n",
              "      <th>nose_long</th>\n",
              "      <th>lips_thin</th>\n",
              "      <th>distance_nose_to_lip_long</th>\n",
              "      <th>gender</th>\n",
              "    </tr>\n",
              "  </thead>\n",
              "  <tbody>\n",
              "    <tr>\n",
              "      <th>0</th>\n",
              "      <td>1</td>\n",
              "      <td>-1.247933</td>\n",
              "      <td>0.283971</td>\n",
              "      <td>1</td>\n",
              "      <td>0</td>\n",
              "      <td>1</td>\n",
              "      <td>1</td>\n",
              "      <td>1</td>\n",
              "    </tr>\n",
              "    <tr>\n",
              "      <th>1</th>\n",
              "      <td>0</td>\n",
              "      <td>0.739389</td>\n",
              "      <td>-1.009418</td>\n",
              "      <td>0</td>\n",
              "      <td>0</td>\n",
              "      <td>1</td>\n",
              "      <td>0</td>\n",
              "      <td>0</td>\n",
              "    </tr>\n",
              "    <tr>\n",
              "      <th>2</th>\n",
              "      <td>0</td>\n",
              "      <td>-1.247933</td>\n",
              "      <td>0.653511</td>\n",
              "      <td>1</td>\n",
              "      <td>1</td>\n",
              "      <td>1</td>\n",
              "      <td>1</td>\n",
              "      <td>1</td>\n",
              "    </tr>\n",
              "    <tr>\n",
              "      <th>3</th>\n",
              "      <td>0</td>\n",
              "      <td>1.100720</td>\n",
              "      <td>0.283971</td>\n",
              "      <td>0</td>\n",
              "      <td>1</td>\n",
              "      <td>1</td>\n",
              "      <td>1</td>\n",
              "      <td>1</td>\n",
              "    </tr>\n",
              "    <tr>\n",
              "      <th>4</th>\n",
              "      <td>1</td>\n",
              "      <td>0.287725</td>\n",
              "      <td>-0.085568</td>\n",
              "      <td>0</td>\n",
              "      <td>0</td>\n",
              "      <td>0</td>\n",
              "      <td>0</td>\n",
              "      <td>0</td>\n",
              "    </tr>\n",
              "    <tr>\n",
              "      <th>...</th>\n",
              "      <td>...</td>\n",
              "      <td>...</td>\n",
              "      <td>...</td>\n",
              "      <td>...</td>\n",
              "      <td>...</td>\n",
              "      <td>...</td>\n",
              "      <td>...</td>\n",
              "      <td>...</td>\n",
              "    </tr>\n",
              "    <tr>\n",
              "      <th>4996</th>\n",
              "      <td>1</td>\n",
              "      <td>0.378057</td>\n",
              "      <td>-1.563727</td>\n",
              "      <td>0</td>\n",
              "      <td>0</td>\n",
              "      <td>0</td>\n",
              "      <td>0</td>\n",
              "      <td>0</td>\n",
              "    </tr>\n",
              "    <tr>\n",
              "      <th>4997</th>\n",
              "      <td>1</td>\n",
              "      <td>-1.157600</td>\n",
              "      <td>-1.009418</td>\n",
              "      <td>0</td>\n",
              "      <td>0</td>\n",
              "      <td>0</td>\n",
              "      <td>0</td>\n",
              "      <td>0</td>\n",
              "    </tr>\n",
              "    <tr>\n",
              "      <th>4998</th>\n",
              "      <td>1</td>\n",
              "      <td>-0.254272</td>\n",
              "      <td>-0.455108</td>\n",
              "      <td>0</td>\n",
              "      <td>0</td>\n",
              "      <td>0</td>\n",
              "      <td>0</td>\n",
              "      <td>0</td>\n",
              "    </tr>\n",
              "    <tr>\n",
              "      <th>4999</th>\n",
              "      <td>1</td>\n",
              "      <td>0.016726</td>\n",
              "      <td>0.468741</td>\n",
              "      <td>0</td>\n",
              "      <td>0</td>\n",
              "      <td>0</td>\n",
              "      <td>0</td>\n",
              "      <td>0</td>\n",
              "    </tr>\n",
              "    <tr>\n",
              "      <th>5000</th>\n",
              "      <td>1</td>\n",
              "      <td>2.004048</td>\n",
              "      <td>-1.009418</td>\n",
              "      <td>1</td>\n",
              "      <td>1</td>\n",
              "      <td>1</td>\n",
              "      <td>1</td>\n",
              "      <td>1</td>\n",
              "    </tr>\n",
              "  </tbody>\n",
              "</table>\n",
              "<p>5001 rows × 8 columns</p>\n",
              "</div>\n",
              "    <div class=\"colab-df-buttons\">\n",
              "\n",
              "  <div class=\"colab-df-container\">\n",
              "    <button class=\"colab-df-convert\" onclick=\"convertToInteractive('df-cbfda12d-e8d8-4203-bd19-17e911a81376')\"\n",
              "            title=\"Convert this dataframe to an interactive table.\"\n",
              "            style=\"display:none;\">\n",
              "\n",
              "  <svg xmlns=\"http://www.w3.org/2000/svg\" height=\"24px\" viewBox=\"0 -960 960 960\">\n",
              "    <path d=\"M120-120v-720h720v720H120Zm60-500h600v-160H180v160Zm220 220h160v-160H400v160Zm0 220h160v-160H400v160ZM180-400h160v-160H180v160Zm440 0h160v-160H620v160ZM180-180h160v-160H180v160Zm440 0h160v-160H620v160Z\"/>\n",
              "  </svg>\n",
              "    </button>\n",
              "\n",
              "  <style>\n",
              "    .colab-df-container {\n",
              "      display:flex;\n",
              "      gap: 12px;\n",
              "    }\n",
              "\n",
              "    .colab-df-convert {\n",
              "      background-color: #E8F0FE;\n",
              "      border: none;\n",
              "      border-radius: 50%;\n",
              "      cursor: pointer;\n",
              "      display: none;\n",
              "      fill: #1967D2;\n",
              "      height: 32px;\n",
              "      padding: 0 0 0 0;\n",
              "      width: 32px;\n",
              "    }\n",
              "\n",
              "    .colab-df-convert:hover {\n",
              "      background-color: #E2EBFA;\n",
              "      box-shadow: 0px 1px 2px rgba(60, 64, 67, 0.3), 0px 1px 3px 1px rgba(60, 64, 67, 0.15);\n",
              "      fill: #174EA6;\n",
              "    }\n",
              "\n",
              "    .colab-df-buttons div {\n",
              "      margin-bottom: 4px;\n",
              "    }\n",
              "\n",
              "    [theme=dark] .colab-df-convert {\n",
              "      background-color: #3B4455;\n",
              "      fill: #D2E3FC;\n",
              "    }\n",
              "\n",
              "    [theme=dark] .colab-df-convert:hover {\n",
              "      background-color: #434B5C;\n",
              "      box-shadow: 0px 1px 3px 1px rgba(0, 0, 0, 0.15);\n",
              "      filter: drop-shadow(0px 1px 2px rgba(0, 0, 0, 0.3));\n",
              "      fill: #FFFFFF;\n",
              "    }\n",
              "  </style>\n",
              "\n",
              "    <script>\n",
              "      const buttonEl =\n",
              "        document.querySelector('#df-cbfda12d-e8d8-4203-bd19-17e911a81376 button.colab-df-convert');\n",
              "      buttonEl.style.display =\n",
              "        google.colab.kernel.accessAllowed ? 'block' : 'none';\n",
              "\n",
              "      async function convertToInteractive(key) {\n",
              "        const element = document.querySelector('#df-cbfda12d-e8d8-4203-bd19-17e911a81376');\n",
              "        const dataTable =\n",
              "          await google.colab.kernel.invokeFunction('convertToInteractive',\n",
              "                                                    [key], {});\n",
              "        if (!dataTable) return;\n",
              "\n",
              "        const docLinkHtml = 'Like what you see? Visit the ' +\n",
              "          '<a target=\"_blank\" href=https://colab.research.google.com/notebooks/data_table.ipynb>data table notebook</a>'\n",
              "          + ' to learn more about interactive tables.';\n",
              "        element.innerHTML = '';\n",
              "        dataTable['output_type'] = 'display_data';\n",
              "        await google.colab.output.renderOutput(dataTable, element);\n",
              "        const docLink = document.createElement('div');\n",
              "        docLink.innerHTML = docLinkHtml;\n",
              "        element.appendChild(docLink);\n",
              "      }\n",
              "    </script>\n",
              "  </div>\n",
              "\n",
              "\n",
              "<div id=\"df-be6d6a33-e645-458d-91fe-0ee6134d1deb\">\n",
              "  <button class=\"colab-df-quickchart\" onclick=\"quickchart('df-be6d6a33-e645-458d-91fe-0ee6134d1deb')\"\n",
              "            title=\"Suggest charts\"\n",
              "            style=\"display:none;\">\n",
              "\n",
              "<svg xmlns=\"http://www.w3.org/2000/svg\" height=\"24px\"viewBox=\"0 0 24 24\"\n",
              "     width=\"24px\">\n",
              "    <g>\n",
              "        <path d=\"M19 3H5c-1.1 0-2 .9-2 2v14c0 1.1.9 2 2 2h14c1.1 0 2-.9 2-2V5c0-1.1-.9-2-2-2zM9 17H7v-7h2v7zm4 0h-2V7h2v10zm4 0h-2v-4h2v4z\"/>\n",
              "    </g>\n",
              "</svg>\n",
              "  </button>\n",
              "\n",
              "<style>\n",
              "  .colab-df-quickchart {\n",
              "      --bg-color: #E8F0FE;\n",
              "      --fill-color: #1967D2;\n",
              "      --hover-bg-color: #E2EBFA;\n",
              "      --hover-fill-color: #174EA6;\n",
              "      --disabled-fill-color: #AAA;\n",
              "      --disabled-bg-color: #DDD;\n",
              "  }\n",
              "\n",
              "  [theme=dark] .colab-df-quickchart {\n",
              "      --bg-color: #3B4455;\n",
              "      --fill-color: #D2E3FC;\n",
              "      --hover-bg-color: #434B5C;\n",
              "      --hover-fill-color: #FFFFFF;\n",
              "      --disabled-bg-color: #3B4455;\n",
              "      --disabled-fill-color: #666;\n",
              "  }\n",
              "\n",
              "  .colab-df-quickchart {\n",
              "    background-color: var(--bg-color);\n",
              "    border: none;\n",
              "    border-radius: 50%;\n",
              "    cursor: pointer;\n",
              "    display: none;\n",
              "    fill: var(--fill-color);\n",
              "    height: 32px;\n",
              "    padding: 0;\n",
              "    width: 32px;\n",
              "  }\n",
              "\n",
              "  .colab-df-quickchart:hover {\n",
              "    background-color: var(--hover-bg-color);\n",
              "    box-shadow: 0 1px 2px rgba(60, 64, 67, 0.3), 0 1px 3px 1px rgba(60, 64, 67, 0.15);\n",
              "    fill: var(--button-hover-fill-color);\n",
              "  }\n",
              "\n",
              "  .colab-df-quickchart-complete:disabled,\n",
              "  .colab-df-quickchart-complete:disabled:hover {\n",
              "    background-color: var(--disabled-bg-color);\n",
              "    fill: var(--disabled-fill-color);\n",
              "    box-shadow: none;\n",
              "  }\n",
              "\n",
              "  .colab-df-spinner {\n",
              "    border: 2px solid var(--fill-color);\n",
              "    border-color: transparent;\n",
              "    border-bottom-color: var(--fill-color);\n",
              "    animation:\n",
              "      spin 1s steps(1) infinite;\n",
              "  }\n",
              "\n",
              "  @keyframes spin {\n",
              "    0% {\n",
              "      border-color: transparent;\n",
              "      border-bottom-color: var(--fill-color);\n",
              "      border-left-color: var(--fill-color);\n",
              "    }\n",
              "    20% {\n",
              "      border-color: transparent;\n",
              "      border-left-color: var(--fill-color);\n",
              "      border-top-color: var(--fill-color);\n",
              "    }\n",
              "    30% {\n",
              "      border-color: transparent;\n",
              "      border-left-color: var(--fill-color);\n",
              "      border-top-color: var(--fill-color);\n",
              "      border-right-color: var(--fill-color);\n",
              "    }\n",
              "    40% {\n",
              "      border-color: transparent;\n",
              "      border-right-color: var(--fill-color);\n",
              "      border-top-color: var(--fill-color);\n",
              "    }\n",
              "    60% {\n",
              "      border-color: transparent;\n",
              "      border-right-color: var(--fill-color);\n",
              "    }\n",
              "    80% {\n",
              "      border-color: transparent;\n",
              "      border-right-color: var(--fill-color);\n",
              "      border-bottom-color: var(--fill-color);\n",
              "    }\n",
              "    90% {\n",
              "      border-color: transparent;\n",
              "      border-bottom-color: var(--fill-color);\n",
              "    }\n",
              "  }\n",
              "</style>\n",
              "\n",
              "  <script>\n",
              "    async function quickchart(key) {\n",
              "      const quickchartButtonEl =\n",
              "        document.querySelector('#' + key + ' button');\n",
              "      quickchartButtonEl.disabled = true;  // To prevent multiple clicks.\n",
              "      quickchartButtonEl.classList.add('colab-df-spinner');\n",
              "      try {\n",
              "        const charts = await google.colab.kernel.invokeFunction(\n",
              "            'suggestCharts', [key], {});\n",
              "      } catch (error) {\n",
              "        console.error('Error during call to suggestCharts:', error);\n",
              "      }\n",
              "      quickchartButtonEl.classList.remove('colab-df-spinner');\n",
              "      quickchartButtonEl.classList.add('colab-df-quickchart-complete');\n",
              "    }\n",
              "    (() => {\n",
              "      let quickchartButtonEl =\n",
              "        document.querySelector('#df-be6d6a33-e645-458d-91fe-0ee6134d1deb button');\n",
              "      quickchartButtonEl.style.display =\n",
              "        google.colab.kernel.accessAllowed ? 'block' : 'none';\n",
              "    })();\n",
              "  </script>\n",
              "</div>\n",
              "\n",
              "  <div id=\"id_2954284e-861e-434f-8bb1-f5758a3f6566\">\n",
              "    <style>\n",
              "      .colab-df-generate {\n",
              "        background-color: #E8F0FE;\n",
              "        border: none;\n",
              "        border-radius: 50%;\n",
              "        cursor: pointer;\n",
              "        display: none;\n",
              "        fill: #1967D2;\n",
              "        height: 32px;\n",
              "        padding: 0 0 0 0;\n",
              "        width: 32px;\n",
              "      }\n",
              "\n",
              "      .colab-df-generate:hover {\n",
              "        background-color: #E2EBFA;\n",
              "        box-shadow: 0px 1px 2px rgba(60, 64, 67, 0.3), 0px 1px 3px 1px rgba(60, 64, 67, 0.15);\n",
              "        fill: #174EA6;\n",
              "      }\n",
              "\n",
              "      [theme=dark] .colab-df-generate {\n",
              "        background-color: #3B4455;\n",
              "        fill: #D2E3FC;\n",
              "      }\n",
              "\n",
              "      [theme=dark] .colab-df-generate:hover {\n",
              "        background-color: #434B5C;\n",
              "        box-shadow: 0px 1px 3px 1px rgba(0, 0, 0, 0.15);\n",
              "        filter: drop-shadow(0px 1px 2px rgba(0, 0, 0, 0.3));\n",
              "        fill: #FFFFFF;\n",
              "      }\n",
              "    </style>\n",
              "    <button class=\"colab-df-generate\" onclick=\"generateWithVariable('dataset')\"\n",
              "            title=\"Generate code using this dataframe.\"\n",
              "            style=\"display:none;\">\n",
              "\n",
              "  <svg xmlns=\"http://www.w3.org/2000/svg\" height=\"24px\"viewBox=\"0 0 24 24\"\n",
              "       width=\"24px\">\n",
              "    <path d=\"M7,19H8.4L18.45,9,17,7.55,7,17.6ZM5,21V16.75L18.45,3.32a2,2,0,0,1,2.83,0l1.4,1.43a1.91,1.91,0,0,1,.58,1.4,1.91,1.91,0,0,1-.58,1.4L9.25,21ZM18.45,9,17,7.55Zm-12,3A5.31,5.31,0,0,0,4.9,8.1,5.31,5.31,0,0,0,1,6.5,5.31,5.31,0,0,0,4.9,4.9,5.31,5.31,0,0,0,6.5,1,5.31,5.31,0,0,0,8.1,4.9,5.31,5.31,0,0,0,12,6.5,5.46,5.46,0,0,0,6.5,12Z\"/>\n",
              "  </svg>\n",
              "    </button>\n",
              "    <script>\n",
              "      (() => {\n",
              "      const buttonEl =\n",
              "        document.querySelector('#id_2954284e-861e-434f-8bb1-f5758a3f6566 button.colab-df-generate');\n",
              "      buttonEl.style.display =\n",
              "        google.colab.kernel.accessAllowed ? 'block' : 'none';\n",
              "\n",
              "      buttonEl.onclick = () => {\n",
              "        google.colab.notebook.generateWithVariable('dataset');\n",
              "      }\n",
              "      })();\n",
              "    </script>\n",
              "  </div>\n",
              "\n",
              "    </div>\n",
              "  </div>\n"
            ],
            "text/plain": [
              "      long_hair  forehead_width_cm  forehead_height_cm  nose_wide  nose_long  \\\n",
              "0             1          -1.247933            0.283971          1          0   \n",
              "1             0           0.739389           -1.009418          0          0   \n",
              "2             0          -1.247933            0.653511          1          1   \n",
              "3             0           1.100720            0.283971          0          1   \n",
              "4             1           0.287725           -0.085568          0          0   \n",
              "...         ...                ...                 ...        ...        ...   \n",
              "4996          1           0.378057           -1.563727          0          0   \n",
              "4997          1          -1.157600           -1.009418          0          0   \n",
              "4998          1          -0.254272           -0.455108          0          0   \n",
              "4999          1           0.016726            0.468741          0          0   \n",
              "5000          1           2.004048           -1.009418          1          1   \n",
              "\n",
              "      lips_thin  distance_nose_to_lip_long  gender  \n",
              "0             1                          1       1  \n",
              "1             1                          0       0  \n",
              "2             1                          1       1  \n",
              "3             1                          1       1  \n",
              "4             0                          0       0  \n",
              "...         ...                        ...     ...  \n",
              "4996          0                          0       0  \n",
              "4997          0                          0       0  \n",
              "4998          0                          0       0  \n",
              "4999          0                          0       0  \n",
              "5000          1                          1       1  \n",
              "\n",
              "[5001 rows x 8 columns]"
            ]
          },
          "execution_count": 11,
          "metadata": {},
          "output_type": "execute_result"
        }
      ],
      "source": [
        "dataset"
      ]
    },
    {
      "cell_type": "markdown",
      "id": "c545a00a",
      "metadata": {
        "id": "c545a00a"
      },
      "source": [
        "<a id=\"gi\"></a>\n",
        "# 3.1. Understanding the need of Regularization"
      ]
    },
    {
      "cell_type": "markdown",
      "id": "f4b914f1",
      "metadata": {
        "id": "f4b914f1"
      },
      "source": [
        "<a id=\"mf\"></a>\n",
        "# 3.2. Understanding the L2 Regularization or Ridge Regression"
      ]
    },
    {
      "cell_type": "code",
      "execution_count": null,
      "id": "3c6ffd0d",
      "metadata": {
        "id": "3c6ffd0d"
      },
      "outputs": [],
      "source": [
        "#Splitting all the independent variables in one array\n",
        "x = dataset.iloc[:,0:7].values"
      ]
    },
    {
      "cell_type": "code",
      "execution_count": null,
      "id": "d3041184",
      "metadata": {
        "id": "d3041184"
      },
      "outputs": [],
      "source": [
        "#Splitting the dependent variable in one array\n",
        "y = dataset.iloc[:,-1].values"
      ]
    },
    {
      "cell_type": "code",
      "execution_count": null,
      "id": "b9942fd8",
      "metadata": {
        "id": "b9942fd8"
      },
      "outputs": [],
      "source": [
        "#Splitting the dataset into train and test based on the 70-30 ratio\n",
        "from sklearn.model_selection import train_test_split\n",
        "x_train,x_test,y_train,y_test = train_test_split(x,y,test_size=0.30)"
      ]
    },
    {
      "cell_type": "markdown",
      "id": "64c21646",
      "metadata": {
        "id": "64c21646"
      },
      "source": [
        "<a id=\"model\"></a>\n",
        "# 5. Creating the model on training dataset"
      ]
    },
    {
      "cell_type": "code",
      "execution_count": null,
      "id": "253f6b63",
      "metadata": {
        "colab": {
          "base_uri": "https://localhost:8080/",
          "height": 74
        },
        "id": "253f6b63",
        "outputId": "83e71cee-e532-43bf-ce18-8ecff1471df7"
      },
      "outputs": [
        {
          "data": {
            "text/html": [
              "<style>#sk-container-id-1 {color: black;background-color: white;}#sk-container-id-1 pre{padding: 0;}#sk-container-id-1 div.sk-toggleable {background-color: white;}#sk-container-id-1 label.sk-toggleable__label {cursor: pointer;display: block;width: 100%;margin-bottom: 0;padding: 0.3em;box-sizing: border-box;text-align: center;}#sk-container-id-1 label.sk-toggleable__label-arrow:before {content: \"▸\";float: left;margin-right: 0.25em;color: #696969;}#sk-container-id-1 label.sk-toggleable__label-arrow:hover:before {color: black;}#sk-container-id-1 div.sk-estimator:hover label.sk-toggleable__label-arrow:before {color: black;}#sk-container-id-1 div.sk-toggleable__content {max-height: 0;max-width: 0;overflow: hidden;text-align: left;background-color: #f0f8ff;}#sk-container-id-1 div.sk-toggleable__content pre {margin: 0.2em;color: black;border-radius: 0.25em;background-color: #f0f8ff;}#sk-container-id-1 input.sk-toggleable__control:checked~div.sk-toggleable__content {max-height: 200px;max-width: 100%;overflow: auto;}#sk-container-id-1 input.sk-toggleable__control:checked~label.sk-toggleable__label-arrow:before {content: \"▾\";}#sk-container-id-1 div.sk-estimator input.sk-toggleable__control:checked~label.sk-toggleable__label {background-color: #d4ebff;}#sk-container-id-1 div.sk-label input.sk-toggleable__control:checked~label.sk-toggleable__label {background-color: #d4ebff;}#sk-container-id-1 input.sk-hidden--visually {border: 0;clip: rect(1px 1px 1px 1px);clip: rect(1px, 1px, 1px, 1px);height: 1px;margin: -1px;overflow: hidden;padding: 0;position: absolute;width: 1px;}#sk-container-id-1 div.sk-estimator {font-family: monospace;background-color: #f0f8ff;border: 1px dotted black;border-radius: 0.25em;box-sizing: border-box;margin-bottom: 0.5em;}#sk-container-id-1 div.sk-estimator:hover {background-color: #d4ebff;}#sk-container-id-1 div.sk-parallel-item::after {content: \"\";width: 100%;border-bottom: 1px solid gray;flex-grow: 1;}#sk-container-id-1 div.sk-label:hover label.sk-toggleable__label {background-color: #d4ebff;}#sk-container-id-1 div.sk-serial::before {content: \"\";position: absolute;border-left: 1px solid gray;box-sizing: border-box;top: 0;bottom: 0;left: 50%;z-index: 0;}#sk-container-id-1 div.sk-serial {display: flex;flex-direction: column;align-items: center;background-color: white;padding-right: 0.2em;padding-left: 0.2em;position: relative;}#sk-container-id-1 div.sk-item {position: relative;z-index: 1;}#sk-container-id-1 div.sk-parallel {display: flex;align-items: stretch;justify-content: center;background-color: white;position: relative;}#sk-container-id-1 div.sk-item::before, #sk-container-id-1 div.sk-parallel-item::before {content: \"\";position: absolute;border-left: 1px solid gray;box-sizing: border-box;top: 0;bottom: 0;left: 50%;z-index: -1;}#sk-container-id-1 div.sk-parallel-item {display: flex;flex-direction: column;z-index: 1;position: relative;background-color: white;}#sk-container-id-1 div.sk-parallel-item:first-child::after {align-self: flex-end;width: 50%;}#sk-container-id-1 div.sk-parallel-item:last-child::after {align-self: flex-start;width: 50%;}#sk-container-id-1 div.sk-parallel-item:only-child::after {width: 0;}#sk-container-id-1 div.sk-dashed-wrapped {border: 1px dashed gray;margin: 0 0.4em 0.5em 0.4em;box-sizing: border-box;padding-bottom: 0.4em;background-color: white;}#sk-container-id-1 div.sk-label label {font-family: monospace;font-weight: bold;display: inline-block;line-height: 1.2em;}#sk-container-id-1 div.sk-label-container {text-align: center;}#sk-container-id-1 div.sk-container {/* jupyter's `normalize.less` sets `[hidden] { display: none; }` but bootstrap.min.css set `[hidden] { display: none !important; }` so we also need the `!important` here to be able to override the default hidden behavior on the sphinx rendered scikit-learn.org. See: https://github.com/scikit-learn/scikit-learn/issues/21755 */display: inline-block !important;position: relative;}#sk-container-id-1 div.sk-text-repr-fallback {display: none;}</style><div id=\"sk-container-id-1\" class=\"sk-top-container\"><div class=\"sk-text-repr-fallback\"><pre>LogisticRegression()</pre><b>In a Jupyter environment, please rerun this cell to show the HTML representation or trust the notebook. <br />On GitHub, the HTML representation is unable to render, please try loading this page with nbviewer.org.</b></div><div class=\"sk-container\" hidden><div class=\"sk-item\"><div class=\"sk-estimator sk-toggleable\"><input class=\"sk-toggleable__control sk-hidden--visually\" id=\"sk-estimator-id-1\" type=\"checkbox\" checked><label for=\"sk-estimator-id-1\" class=\"sk-toggleable__label sk-toggleable__label-arrow\">LogisticRegression</label><div class=\"sk-toggleable__content\"><pre>LogisticRegression()</pre></div></div></div></div></div>"
            ],
            "text/plain": [
              "LogisticRegression()"
            ]
          },
          "execution_count": 16,
          "metadata": {},
          "output_type": "execute_result"
        }
      ],
      "source": [
        "#Applying the Logistic Regression on the training dataset\n",
        "from sklearn.linear_model import LogisticRegression\n",
        "logmodel_ini = LogisticRegression()\n",
        "logmodel_ini.fit(x_train,y_train)"
      ]
    },
    {
      "cell_type": "markdown",
      "id": "1a4e67d2",
      "metadata": {
        "id": "1a4e67d2"
      },
      "source": [
        "<a id=\"test\"></a>\n",
        "# 6. Run the model on the Test Dataset"
      ]
    },
    {
      "cell_type": "code",
      "execution_count": null,
      "id": "bb97496f",
      "metadata": {
        "id": "bb97496f"
      },
      "outputs": [],
      "source": [
        "#Running the model on the test dataset\n",
        "y_pred_ini = logmodel_ini.predict(x_test)"
      ]
    },
    {
      "cell_type": "markdown",
      "id": "4b0850cb",
      "metadata": {
        "id": "4b0850cb"
      },
      "source": [
        "<a id=\"acc\"></a>\n",
        "# 7. Check the accuracy of the model"
      ]
    },
    {
      "cell_type": "markdown",
      "id": "4f57e446",
      "metadata": {
        "id": "4f57e446"
      },
      "source": [
        "There are various ways to check the accuracy of the classification model we are going to use all the ways to check the accuracies"
      ]
    },
    {
      "cell_type": "code",
      "execution_count": null,
      "id": "9e3245a0",
      "metadata": {
        "id": "9e3245a0"
      },
      "outputs": [],
      "source": [
        "#Importing all the functions to for checking the accuracies\n",
        "from sklearn.metrics import classification_report,confusion_matrix, accuracy_score, log_loss,roc_curve, auc,RocCurveDisplay, PrecisionRecallDisplay,ConfusionMatrixDisplay"
      ]
    },
    {
      "cell_type": "markdown",
      "id": "ebe62aac",
      "metadata": {
        "id": "ebe62aac"
      },
      "source": [
        "<a id=\"accscore\"></a>\n",
        "# 7.1. Accuracy Score"
      ]
    },
    {
      "cell_type": "code",
      "execution_count": null,
      "id": "136bdb68",
      "metadata": {
        "colab": {
          "base_uri": "https://localhost:8080/"
        },
        "id": "136bdb68",
        "outputId": "b3c037ed-8acb-4d4f-b1f6-25367a787739"
      },
      "outputs": [
        {
          "data": {
            "text/plain": [
              "0.9653564290473018"
            ]
          },
          "execution_count": 20,
          "metadata": {},
          "output_type": "execute_result"
        }
      ],
      "source": [
        "#Using accuracy score we are checking the accuracy on the testing dataset\n",
        "accuracy_score(y_test,y_pred_ini)"
      ]
    },
    {
      "cell_type": "markdown",
      "id": "4b281ccf",
      "metadata": {
        "id": "4b281ccf"
      },
      "source": [
        "<a id=\"cm\"></a>\n",
        "# 7.2. Confusion Matrix"
      ]
    },
    {
      "cell_type": "code",
      "execution_count": null,
      "id": "33bb236e",
      "metadata": {
        "colab": {
          "base_uri": "https://localhost:8080/",
          "height": 449
        },
        "id": "33bb236e",
        "outputId": "3dd88c2d-5cf8-4c9f-b2b0-8ae6f440eb22"
      },
      "outputs": [
        {
          "data": {
            "image/png": "[encoded data removed]",
            "text/plain": [
              "<Figure size 640x480 with 2 Axes>"
            ]
          },
          "metadata": {},
          "output_type": "display_data"
        }
      ],
      "source": [
        "# Compute the confusion matrix\n",
        "cm = confusion_matrix(y_test, y_pred_ini, labels=logmodel_ini.classes_)\n",
        "\n",
        "# Create the ConfusionMatrixDisplay instance\n",
        "disp = ConfusionMatrixDisplay(confusion_matrix=cm, display_labels=logmodel_ini.classes_)\n",
        "\n",
        "# Plot the confusion matrix\n",
        "disp.plot()\n",
        "plt.show()"
      ]
    },
    {
      "cell_type": "markdown",
      "id": "cce5b1eb",
      "metadata": {
        "id": "cce5b1eb"
      },
      "source": [
        "<a id=\"roc\"></a>\n",
        "# 7.3. ROC Curve"
      ]
    },
    {
      "cell_type": "code",
      "execution_count": null,
      "id": "VIzN7sXRa__R",
      "metadata": {
        "colab": {
          "base_uri": "https://localhost:8080/",
          "height": 472
        },
        "id": "VIzN7sXRa__R",
        "outputId": "5213b365-b0bf-4c59-f940-976a7ddad70a"
      },
      "outputs": [
        {
          "data": {
            "image/png": "[encoded data removed]",
            "text/plain": [
              "<Figure size 640x480 with 1 Axes>"
            ]
          },
          "metadata": {},
          "output_type": "display_data"
        }
      ],
      "source": [
        "# Assuming y_true are the true binary labels\n",
        "# and y_scores are the probability estimates of the positive class\n",
        "fpr, tpr, thresholds = roc_curve(y_test, y_pred_ini)\n",
        "roc_auc = auc(fpr, tpr)\n",
        "\n",
        "# Create RocCurveDisplay\n",
        "display = RocCurveDisplay(fpr=fpr, tpr=tpr, roc_auc=roc_auc, estimator_name='LogisticRegression')\n",
        "\n",
        "# Plot the ROC curve\n",
        "display.plot()\n",
        "plt.title(\"Plot of ROC Curve for LR Model\")\n",
        "plt.show()"
      ]
    },
    {
      "cell_type": "markdown",
      "id": "72fd3184",
      "metadata": {
        "id": "72fd3184"
      },
      "source": [
        "<a id=\"f1score\"></a>\n",
        "# 7.4. F1 Score"
      ]
    },
    {
      "cell_type": "code",
      "execution_count": null,
      "id": "b1e3ffc9",
      "metadata": {
        "colab": {
          "base_uri": "https://localhost:8080/"
        },
        "id": "b1e3ffc9",
        "outputId": "619ffa94-ff5a-4134-f2a2-24db2dc9a538"
      },
      "outputs": [
        {
          "name": "stdout",
          "output_type": "stream",
          "text": [
            "              precision    recall  f1-score   support\n",
            "\n",
            " Negative(0)       0.97      0.96      0.97       749\n",
            " Positive(1)       0.96      0.97      0.97       752\n",
            "\n",
            "    accuracy                           0.97      1501\n",
            "   macro avg       0.97      0.97      0.97      1501\n",
            "weighted avg       0.97      0.97      0.97      1501\n",
            "\n"
          ]
        }
      ],
      "source": [
        "#Using F1 Score we are checking the accuracy on the testing dataset\n",
        "target_names= [\"Negative(0)\",\"Positive(1)\"]\n",
        "# Classification Report\n",
        "print(classification_report(y_test,logmodel_ini.predict(x_test),target_names=target_names))"
      ]
    },
    {
      "cell_type": "markdown",
      "id": "c47850e6",
      "metadata": {
        "id": "c47850e6"
      },
      "source": [
        "<a id=\"logloss\"></a>\n",
        "# 7.5. Log Loss"
      ]
    },
    {
      "cell_type": "code",
      "execution_count": null,
      "id": "50c06acf",
      "metadata": {
        "colab": {
          "base_uri": "https://localhost:8080/"
        },
        "id": "50c06acf",
        "outputId": "afa2be02-ae22-4573-9036-91b1e9e96469"
      },
      "outputs": [
        {
          "data": {
            "text/plain": [
              "1.2486808635803412"
            ]
          },
          "execution_count": 31,
          "metadata": {},
          "output_type": "execute_result"
        }
      ],
      "source": [
        "#Using Logloss we are checking the accuracy on the testing dataset\n",
        "log_loss(y_test,logmodel_ini.predict(x_test))"
      ]
    },
    {
      "cell_type": "markdown",
      "id": "ded6646d",
      "metadata": {
        "id": "ded6646d"
      },
      "source": [
        "<a id=\"overunder\"></a>\n",
        "# 8. Comparing the Training and Testing Accuracies"
      ]
    },
    {
      "cell_type": "code",
      "execution_count": null,
      "id": "45527f7c",
      "metadata": {
        "id": "45527f7c"
      },
      "outputs": [],
      "source": [
        "#Storing the predicted values of training dataset in y_pred_train\n",
        "y_pred_train = logmodel_ini.predict(x_train)"
      ]
    },
    {
      "cell_type": "code",
      "execution_count": null,
      "id": "d367330f",
      "metadata": {
        "colab": {
          "base_uri": "https://localhost:8080/"
        },
        "id": "d367330f",
        "outputId": "473fbf07-df8e-4936-9de9-351b672bc0ab"
      },
      "outputs": [
        {
          "data": {
            "text/plain": [
              "0.9702857142857143"
            ]
          },
          "execution_count": 33,
          "metadata": {},
          "output_type": "execute_result"
        }
      ],
      "source": [
        "#Checking the accuracy of training dataset\n",
        "accuracy_score(y_train,y_pred_train)"
      ]
    },
    {
      "cell_type": "code",
      "execution_count": null,
      "id": "01c6d67f",
      "metadata": {
        "colab": {
          "base_uri": "https://localhost:8080/"
        },
        "id": "01c6d67f",
        "outputId": "9d54565a-7fe0-48b5-caca-f6380a682bf6"
      },
      "outputs": [
        {
          "data": {
            "text/plain": [
              "0.9653564290473018"
            ]
          },
          "execution_count": 34,
          "metadata": {},
          "output_type": "execute_result"
        }
      ],
      "source": [
        "#Checking the accuracy of testing dataset\n",
        "accuracy_score(y_test,y_pred_ini)"
      ]
    },
    {
      "cell_type": "markdown",
      "id": "0c1e6b2d",
      "metadata": {
        "id": "0c1e6b2d"
      },
      "source": [
        "**Conclusion:** As there is very less difference between the accuracy of training and testing dataset we are good to go with the model"
      ]
    },
    {
      "cell_type": "markdown",
      "id": "34c16460",
      "metadata": {
        "id": "34c16460"
      },
      "source": [
        "<a id=\"kfcv\"></a>\n",
        "# 9. Applying K-Fold Cross Validation to find the best value of C (C = 1/Lambda)"
      ]
    },
    {
      "cell_type": "code",
      "execution_count": null,
      "id": "957bec2a",
      "metadata": {
        "colab": {
          "base_uri": "https://localhost:8080/",
          "height": 434
        },
        "id": "957bec2a",
        "outputId": "ff29cb58-42a6-42d5-8de9-3054bc0c105b"
      },
      "outputs": [
        {
          "data": {
            "image/png": "[encoded data removed]",
            "text/plain": [
              "<Figure size 640x480 with 1 Axes>"
            ]
          },
          "metadata": {},
          "output_type": "display_data"
        }
      ],
      "source": [
        "#Using K-fold cross validation technique we will find the best value of C\n",
        "C = [0.01,0.1,1,10,100,1000]\n",
        "from sklearn.model_selection import cross_val_score\n",
        "cv_score = []\n",
        "\n",
        "for c in C:\n",
        "    logmodel = LogisticRegression(C=c)\n",
        "    scores = cross_val_score(logmodel, x_train,y_train,cv=3, scoring='accuracy')\n",
        "    cv_score.append(scores.mean())\n",
        "\n",
        "cv_score\n",
        "plt.plot(C, cv_score)\n",
        "plt.show()\n",
        "#The best value of depth is coming out to be 7, we will retrain the model with the value of depth as 7"
      ]
    },
    {
      "cell_type": "code",
      "execution_count": null,
      "id": "c8839a72",
      "metadata": {
        "colab": {
          "base_uri": "https://localhost:8080/",
          "height": 74
        },
        "id": "c8839a72",
        "outputId": "d8771ef1-a5c4-4f3e-a5f8-dca62d3b9909"
      },
      "outputs": [
        {
          "data": {
            "text/html": [
              "<style>#sk-container-id-2 {color: black;background-color: white;}#sk-container-id-2 pre{padding: 0;}#sk-container-id-2 div.sk-toggleable {background-color: white;}#sk-container-id-2 label.sk-toggleable__label {cursor: pointer;display: block;width: 100%;margin-bottom: 0;padding: 0.3em;box-sizing: border-box;text-align: center;}#sk-container-id-2 label.sk-toggleable__label-arrow:before {content: \"▸\";float: left;margin-right: 0.25em;color: #696969;}#sk-container-id-2 label.sk-toggleable__label-arrow:hover:before {color: black;}#sk-container-id-2 div.sk-estimator:hover label.sk-toggleable__label-arrow:before {color: black;}#sk-container-id-2 div.sk-toggleable__content {max-height: 0;max-width: 0;overflow: hidden;text-align: left;background-color: #f0f8ff;}#sk-container-id-2 div.sk-toggleable__content pre {margin: 0.2em;color: black;border-radius: 0.25em;background-color: #f0f8ff;}#sk-container-id-2 input.sk-toggleable__control:checked~div.sk-toggleable__content {max-height: 200px;max-width: 100%;overflow: auto;}#sk-container-id-2 input.sk-toggleable__control:checked~label.sk-toggleable__label-arrow:before {content: \"▾\";}#sk-container-id-2 div.sk-estimator input.sk-toggleable__control:checked~label.sk-toggleable__label {background-color: #d4ebff;}#sk-container-id-2 div.sk-label input.sk-toggleable__control:checked~label.sk-toggleable__label {background-color: #d4ebff;}#sk-container-id-2 input.sk-hidden--visually {border: 0;clip: rect(1px 1px 1px 1px);clip: rect(1px, 1px, 1px, 1px);height: 1px;margin: -1px;overflow: hidden;padding: 0;position: absolute;width: 1px;}#sk-container-id-2 div.sk-estimator {font-family: monospace;background-color: #f0f8ff;border: 1px dotted black;border-radius: 0.25em;box-sizing: border-box;margin-bottom: 0.5em;}#sk-container-id-2 div.sk-estimator:hover {background-color: #d4ebff;}#sk-container-id-2 div.sk-parallel-item::after {content: \"\";width: 100%;border-bottom: 1px solid gray;flex-grow: 1;}#sk-container-id-2 div.sk-label:hover label.sk-toggleable__label {background-color: #d4ebff;}#sk-container-id-2 div.sk-serial::before {content: \"\";position: absolute;border-left: 1px solid gray;box-sizing: border-box;top: 0;bottom: 0;left: 50%;z-index: 0;}#sk-container-id-2 div.sk-serial {display: flex;flex-direction: column;align-items: center;background-color: white;padding-right: 0.2em;padding-left: 0.2em;position: relative;}#sk-container-id-2 div.sk-item {position: relative;z-index: 1;}#sk-container-id-2 div.sk-parallel {display: flex;align-items: stretch;justify-content: center;background-color: white;position: relative;}#sk-container-id-2 div.sk-item::before, #sk-container-id-2 div.sk-parallel-item::before {content: \"\";position: absolute;border-left: 1px solid gray;box-sizing: border-box;top: 0;bottom: 0;left: 50%;z-index: -1;}#sk-container-id-2 div.sk-parallel-item {display: flex;flex-direction: column;z-index: 1;position: relative;background-color: white;}#sk-container-id-2 div.sk-parallel-item:first-child::after {align-self: flex-end;width: 50%;}#sk-container-id-2 div.sk-parallel-item:last-child::after {align-self: flex-start;width: 50%;}#sk-container-id-2 div.sk-parallel-item:only-child::after {width: 0;}#sk-container-id-2 div.sk-dashed-wrapped {border: 1px dashed gray;margin: 0 0.4em 0.5em 0.4em;box-sizing: border-box;padding-bottom: 0.4em;background-color: white;}#sk-container-id-2 div.sk-label label {font-family: monospace;font-weight: bold;display: inline-block;line-height: 1.2em;}#sk-container-id-2 div.sk-label-container {text-align: center;}#sk-container-id-2 div.sk-container {/* jupyter's `normalize.less` sets `[hidden] { display: none; }` but bootstrap.min.css set `[hidden] { display: none !important; }` so we also need the `!important` here to be able to override the default hidden behavior on the sphinx rendered scikit-learn.org. See: https://github.com/scikit-learn/scikit-learn/issues/21755 */display: inline-block !important;position: relative;}#sk-container-id-2 div.sk-text-repr-fallback {display: none;}</style><div id=\"sk-container-id-2\" class=\"sk-top-container\"><div class=\"sk-text-repr-fallback\"><pre>LogisticRegression(C=0.01, solver=&#x27;liblinear&#x27;)</pre><b>In a Jupyter environment, please rerun this cell to show the HTML representation or trust the notebook. <br />On GitHub, the HTML representation is unable to render, please try loading this page with nbviewer.org.</b></div><div class=\"sk-container\" hidden><div class=\"sk-item\"><div class=\"sk-estimator sk-toggleable\"><input class=\"sk-toggleable__control sk-hidden--visually\" id=\"sk-estimator-id-2\" type=\"checkbox\" checked><label for=\"sk-estimator-id-2\" class=\"sk-toggleable__label sk-toggleable__label-arrow\">LogisticRegression</label><div class=\"sk-toggleable__content\"><pre>LogisticRegression(C=0.01, solver=&#x27;liblinear&#x27;)</pre></div></div></div></div></div>"
            ],
            "text/plain": [
              "LogisticRegression(C=0.01, solver='liblinear')"
            ]
          },
          "execution_count": 36,
          "metadata": {},
          "output_type": "execute_result"
        }
      ],
      "source": [
        "#Applying the Logistic Regression on the training dataset\n",
        "from sklearn.linear_model import LogisticRegression\n",
        "logmodel_ridge = LogisticRegression(C=0.01,penalty='l2',solver='liblinear')\n",
        "logmodel_ridge.fit(x_train,y_train)"
      ]
    },
    {
      "cell_type": "code",
      "execution_count": null,
      "id": "4cf3ab8e",
      "metadata": {
        "colab": {
          "base_uri": "https://localhost:8080/"
        },
        "id": "4cf3ab8e",
        "outputId": "fdb01207-f883-4cb6-840e-2f2370fb135b"
      },
      "outputs": [
        {
          "data": {
            "text/plain": [
              "array([[-0.72541237,  0.42355342,  0.35426185,  1.11101479,  1.04319635,\n",
              "         1.04880298,  1.06292726]])"
            ]
          },
          "execution_count": 37,
          "metadata": {},
          "output_type": "execute_result"
        }
      ],
      "source": [
        "logmodel_ridge.coef_"
      ]
    },
    {
      "cell_type": "code",
      "execution_count": null,
      "id": "a2ad2056",
      "metadata": {
        "id": "a2ad2056"
      },
      "outputs": [],
      "source": [
        "#Running the model on the test dataset\n",
        "y_pred_ridge = logmodel_ridge.predict(x_test)"
      ]
    },
    {
      "cell_type": "code",
      "execution_count": null,
      "id": "1e034266",
      "metadata": {
        "colab": {
          "base_uri": "https://localhost:8080/"
        },
        "id": "1e034266",
        "outputId": "88adb911-c779-4761-bd3f-907edd1b8710"
      },
      "outputs": [
        {
          "data": {
            "text/plain": [
              "0.9593604263824117"
            ]
          },
          "execution_count": 39,
          "metadata": {},
          "output_type": "execute_result"
        }
      ],
      "source": [
        "#Using accuracy score we are checking the accuracy on the testing dataset\n",
        "accuracy_score(y_test,y_pred_ridge)"
      ]
    },
    {
      "cell_type": "code",
      "execution_count": null,
      "id": "969b1925",
      "metadata": {
        "id": "969b1925"
      },
      "outputs": [],
      "source": [
        "#Running the model on the test dataset\n",
        "y_pred_train_ridge = logmodel_ridge.predict(x_train)"
      ]
    },
    {
      "cell_type": "code",
      "execution_count": null,
      "id": "4fcb4de2",
      "metadata": {
        "colab": {
          "base_uri": "https://localhost:8080/"
        },
        "id": "4fcb4de2",
        "outputId": "30fd6818-0aa1-448c-ed76-c30102bf5fe6"
      },
      "outputs": [
        {
          "data": {
            "text/plain": [
              "0.9651428571428572"
            ]
          },
          "execution_count": 41,
          "metadata": {},
          "output_type": "execute_result"
        }
      ],
      "source": [
        "#Using accuracy score we are checking the accuracy on the testing dataset\n",
        "accuracy_score(y_train,y_pred_train_ridge)"
      ]
    },
    {
      "cell_type": "code",
      "execution_count": null,
      "id": "7f993c45",
      "metadata": {
        "colab": {
          "base_uri": "https://localhost:8080/",
          "height": 74
        },
        "id": "7f993c45",
        "outputId": "2f771c65-ce99-4694-aa9f-54cd64956722"
      },
      "outputs": [
        {
          "data": {
            "text/html": [
              "<style>#sk-container-id-3 {color: black;background-color: white;}#sk-container-id-3 pre{padding: 0;}#sk-container-id-3 div.sk-toggleable {background-color: white;}#sk-container-id-3 label.sk-toggleable__label {cursor: pointer;display: block;width: 100%;margin-bottom: 0;padding: 0.3em;box-sizing: border-box;text-align: center;}#sk-container-id-3 label.sk-toggleable__label-arrow:before {content: \"▸\";float: left;margin-right: 0.25em;color: #696969;}#sk-container-id-3 label.sk-toggleable__label-arrow:hover:before {color: black;}#sk-container-id-3 div.sk-estimator:hover label.sk-toggleable__label-arrow:before {color: black;}#sk-container-id-3 div.sk-toggleable__content {max-height: 0;max-width: 0;overflow: hidden;text-align: left;background-color: #f0f8ff;}#sk-container-id-3 div.sk-toggleable__content pre {margin: 0.2em;color: black;border-radius: 0.25em;background-color: #f0f8ff;}#sk-container-id-3 input.sk-toggleable__control:checked~div.sk-toggleable__content {max-height: 200px;max-width: 100%;overflow: auto;}#sk-container-id-3 input.sk-toggleable__control:checked~label.sk-toggleable__label-arrow:before {content: \"▾\";}#sk-container-id-3 div.sk-estimator input.sk-toggleable__control:checked~label.sk-toggleable__label {background-color: #d4ebff;}#sk-container-id-3 div.sk-label input.sk-toggleable__control:checked~label.sk-toggleable__label {background-color: #d4ebff;}#sk-container-id-3 input.sk-hidden--visually {border: 0;clip: rect(1px 1px 1px 1px);clip: rect(1px, 1px, 1px, 1px);height: 1px;margin: -1px;overflow: hidden;padding: 0;position: absolute;width: 1px;}#sk-container-id-3 div.sk-estimator {font-family: monospace;background-color: #f0f8ff;border: 1px dotted black;border-radius: 0.25em;box-sizing: border-box;margin-bottom: 0.5em;}#sk-container-id-3 div.sk-estimator:hover {background-color: #d4ebff;}#sk-container-id-3 div.sk-parallel-item::after {content: \"\";width: 100%;border-bottom: 1px solid gray;flex-grow: 1;}#sk-container-id-3 div.sk-label:hover label.sk-toggleable__label {background-color: #d4ebff;}#sk-container-id-3 div.sk-serial::before {content: \"\";position: absolute;border-left: 1px solid gray;box-sizing: border-box;top: 0;bottom: 0;left: 50%;z-index: 0;}#sk-container-id-3 div.sk-serial {display: flex;flex-direction: column;align-items: center;background-color: white;padding-right: 0.2em;padding-left: 0.2em;position: relative;}#sk-container-id-3 div.sk-item {position: relative;z-index: 1;}#sk-container-id-3 div.sk-parallel {display: flex;align-items: stretch;justify-content: center;background-color: white;position: relative;}#sk-container-id-3 div.sk-item::before, #sk-container-id-3 div.sk-parallel-item::before {content: \"\";position: absolute;border-left: 1px solid gray;box-sizing: border-box;top: 0;bottom: 0;left: 50%;z-index: -1;}#sk-container-id-3 div.sk-parallel-item {display: flex;flex-direction: column;z-index: 1;position: relative;background-color: white;}#sk-container-id-3 div.sk-parallel-item:first-child::after {align-self: flex-end;width: 50%;}#sk-container-id-3 div.sk-parallel-item:last-child::after {align-self: flex-start;width: 50%;}#sk-container-id-3 div.sk-parallel-item:only-child::after {width: 0;}#sk-container-id-3 div.sk-dashed-wrapped {border: 1px dashed gray;margin: 0 0.4em 0.5em 0.4em;box-sizing: border-box;padding-bottom: 0.4em;background-color: white;}#sk-container-id-3 div.sk-label label {font-family: monospace;font-weight: bold;display: inline-block;line-height: 1.2em;}#sk-container-id-3 div.sk-label-container {text-align: center;}#sk-container-id-3 div.sk-container {/* jupyter's `normalize.less` sets `[hidden] { display: none; }` but bootstrap.min.css set `[hidden] { display: none !important; }` so we also need the `!important` here to be able to override the default hidden behavior on the sphinx rendered scikit-learn.org. See: https://github.com/scikit-learn/scikit-learn/issues/21755 */display: inline-block !important;position: relative;}#sk-container-id-3 div.sk-text-repr-fallback {display: none;}</style><div id=\"sk-container-id-3\" class=\"sk-top-container\"><div class=\"sk-text-repr-fallback\"><pre>LogisticRegression(C=0.01, penalty=&#x27;l1&#x27;, solver=&#x27;liblinear&#x27;)</pre><b>In a Jupyter environment, please rerun this cell to show the HTML representation or trust the notebook. <br />On GitHub, the HTML representation is unable to render, please try loading this page with nbviewer.org.</b></div><div class=\"sk-container\" hidden><div class=\"sk-item\"><div class=\"sk-estimator sk-toggleable\"><input class=\"sk-toggleable__control sk-hidden--visually\" id=\"sk-estimator-id-3\" type=\"checkbox\" checked><label for=\"sk-estimator-id-3\" class=\"sk-toggleable__label sk-toggleable__label-arrow\">LogisticRegression</label><div class=\"sk-toggleable__content\"><pre>LogisticRegression(C=0.01, penalty=&#x27;l1&#x27;, solver=&#x27;liblinear&#x27;)</pre></div></div></div></div></div>"
            ],
            "text/plain": [
              "LogisticRegression(C=0.01, penalty='l1', solver='liblinear')"
            ]
          },
          "execution_count": 42,
          "metadata": {},
          "output_type": "execute_result"
        }
      ],
      "source": [
        "#Applying the Logistic Regression on the training dataset\n",
        "from sklearn.linear_model import LogisticRegression\n",
        "logmodel_lasso = LogisticRegression(C=0.01,penalty='l1',solver='liblinear')\n",
        "logmodel_lasso.fit(x_train,y_train)"
      ]
    },
    {
      "cell_type": "code",
      "execution_count": null,
      "id": "7dcab8d9",
      "metadata": {
        "colab": {
          "base_uri": "https://localhost:8080/"
        },
        "id": "7dcab8d9",
        "outputId": "f289501b-d12f-41ba-a6f7-b5b67848528f"
      },
      "outputs": [
        {
          "data": {
            "text/plain": [
              "array([[0.        , 0.23989566, 0.15974522, 1.25892708, 1.06793872,\n",
              "        1.1097761 , 1.16672925]])"
            ]
          },
          "execution_count": 43,
          "metadata": {},
          "output_type": "execute_result"
        }
      ],
      "source": [
        "logmodel_lasso.coef_"
      ]
    },
    {
      "cell_type": "code",
      "execution_count": null,
      "id": "8e0b1bca",
      "metadata": {
        "id": "8e0b1bca"
      },
      "outputs": [],
      "source": [
        "#Running the model on the test dataset\n",
        "y_pred_lasso = logmodel_lasso.predict(x_test)"
      ]
    },
    {
      "cell_type": "code",
      "execution_count": null,
      "id": "44cab174",
      "metadata": {
        "colab": {
          "base_uri": "https://localhost:8080/"
        },
        "id": "44cab174",
        "outputId": "6ef5eaf8-0444-4292-e2ae-957082cdedad"
      },
      "outputs": [
        {
          "data": {
            "text/plain": [
              "0.955363091272485"
            ]
          },
          "execution_count": 45,
          "metadata": {},
          "output_type": "execute_result"
        }
      ],
      "source": [
        "#Using accuracy score we are checking the accuracy on the testing dataset\n",
        "accuracy_score(y_test,y_pred_lasso)"
      ]
    },
    {
      "cell_type": "code",
      "execution_count": null,
      "id": "181dad70",
      "metadata": {
        "id": "181dad70"
      },
      "outputs": [],
      "source": [
        "#Running the model on the train dataset\n",
        "y_pred_train_lasso = logmodel_lasso.predict(x_train)"
      ]
    },
    {
      "cell_type": "code",
      "execution_count": null,
      "id": "09056a79",
      "metadata": {
        "colab": {
          "base_uri": "https://localhost:8080/"
        },
        "id": "09056a79",
        "outputId": "f060decf-01c5-44fa-828b-d43d761fe8ca"
      },
      "outputs": [
        {
          "data": {
            "text/plain": [
              "0.9671428571428572"
            ]
          },
          "execution_count": 47,
          "metadata": {},
          "output_type": "execute_result"
        }
      ],
      "source": [
        "#Using accuracy score we are checking the accuracy on the training dataset\n",
        "accuracy_score(y_train,y_pred_train_lasso)"
      ]
    },
    {
      "cell_type": "markdown",
      "id": "f09c4c30",
      "metadata": {
        "id": "f09c4c30"
      },
      "source": [
        "# Comparison of Lasso and Ridge models"
      ]
    },
    {
      "cell_type": "code",
      "execution_count": null,
      "id": "64a3603e",
      "metadata": {
        "colab": {
          "base_uri": "https://localhost:8080/"
        },
        "id": "64a3603e",
        "outputId": "d0a654a6-8dec-41b8-8217-18c6d8cd87f8"
      },
      "outputs": [
        {
          "data": {
            "text/plain": [
              "array([[0.        , 0.23989566, 0.15974522, 1.25892708, 1.06793872,\n",
              "        1.1097761 , 1.16672925]])"
            ]
          },
          "execution_count": 48,
          "metadata": {},
          "output_type": "execute_result"
        }
      ],
      "source": [
        "logmodel_lasso.coef_"
      ]
    },
    {
      "cell_type": "code",
      "execution_count": null,
      "id": "aaea2ece",
      "metadata": {
        "colab": {
          "base_uri": "https://localhost:8080/"
        },
        "id": "aaea2ece",
        "outputId": "77fe4236-1613-404e-c439-473b141bd5a2"
      },
      "outputs": [
        {
          "data": {
            "text/plain": [
              "array([[-0.72541237,  0.42355342,  0.35426185,  1.11101479,  1.04319635,\n",
              "         1.04880298,  1.06292726]])"
            ]
          },
          "execution_count": 49,
          "metadata": {},
          "output_type": "execute_result"
        }
      ],
      "source": [
        "logmodel_ridge.coef_"
      ]
    },
    {
      "cell_type": "markdown",
      "id": "38412726",
      "metadata": {
        "id": "38412726"
      },
      "source": [
        "**From the above coefficients we can say that the first feature i.e. long hair is not a very important variable that is the reason in the lasso logistic regression we can see the coefficient coming as 0, however, in the ridge we are seeing a lower coefficient. We also saw this in the exploratory data analysis that there are almost same number of males and females with long and short hairs.**"
      ]
    },
    {
      "cell_type": "code",
      "execution_count": null,
      "id": "861c6172",
      "metadata": {
        "colab": {
          "base_uri": "https://localhost:8080/",
          "height": 74
        },
        "id": "861c6172",
        "outputId": "f26fb8d0-4b17-4a45-8a38-e1d8859e352b"
      },
      "outputs": [
        {
          "data": {
            "text/html": [
              "<style>#sk-container-id-4 {color: black;background-color: white;}#sk-container-id-4 pre{padding: 0;}#sk-container-id-4 div.sk-toggleable {background-color: white;}#sk-container-id-4 label.sk-toggleable__label {cursor: pointer;display: block;width: 100%;margin-bottom: 0;padding: 0.3em;box-sizing: border-box;text-align: center;}#sk-container-id-4 label.sk-toggleable__label-arrow:before {content: \"▸\";float: left;margin-right: 0.25em;color: #696969;}#sk-container-id-4 label.sk-toggleable__label-arrow:hover:before {color: black;}#sk-container-id-4 div.sk-estimator:hover label.sk-toggleable__label-arrow:before {color: black;}#sk-container-id-4 div.sk-toggleable__content {max-height: 0;max-width: 0;overflow: hidden;text-align: left;background-color: #f0f8ff;}#sk-container-id-4 div.sk-toggleable__content pre {margin: 0.2em;color: black;border-radius: 0.25em;background-color: #f0f8ff;}#sk-container-id-4 input.sk-toggleable__control:checked~div.sk-toggleable__content {max-height: 200px;max-width: 100%;overflow: auto;}#sk-container-id-4 input.sk-toggleable__control:checked~label.sk-toggleable__label-arrow:before {content: \"▾\";}#sk-container-id-4 div.sk-estimator input.sk-toggleable__control:checked~label.sk-toggleable__label {background-color: #d4ebff;}#sk-container-id-4 div.sk-label input.sk-toggleable__control:checked~label.sk-toggleable__label {background-color: #d4ebff;}#sk-container-id-4 input.sk-hidden--visually {border: 0;clip: rect(1px 1px 1px 1px);clip: rect(1px, 1px, 1px, 1px);height: 1px;margin: -1px;overflow: hidden;padding: 0;position: absolute;width: 1px;}#sk-container-id-4 div.sk-estimator {font-family: monospace;background-color: #f0f8ff;border: 1px dotted black;border-radius: 0.25em;box-sizing: border-box;margin-bottom: 0.5em;}#sk-container-id-4 div.sk-estimator:hover {background-color: #d4ebff;}#sk-container-id-4 div.sk-parallel-item::after {content: \"\";width: 100%;border-bottom: 1px solid gray;flex-grow: 1;}#sk-container-id-4 div.sk-label:hover label.sk-toggleable__label {background-color: #d4ebff;}#sk-container-id-4 div.sk-serial::before {content: \"\";position: absolute;border-left: 1px solid gray;box-sizing: border-box;top: 0;bottom: 0;left: 50%;z-index: 0;}#sk-container-id-4 div.sk-serial {display: flex;flex-direction: column;align-items: center;background-color: white;padding-right: 0.2em;padding-left: 0.2em;position: relative;}#sk-container-id-4 div.sk-item {position: relative;z-index: 1;}#sk-container-id-4 div.sk-parallel {display: flex;align-items: stretch;justify-content: center;background-color: white;position: relative;}#sk-container-id-4 div.sk-item::before, #sk-container-id-4 div.sk-parallel-item::before {content: \"\";position: absolute;border-left: 1px solid gray;box-sizing: border-box;top: 0;bottom: 0;left: 50%;z-index: -1;}#sk-container-id-4 div.sk-parallel-item {display: flex;flex-direction: column;z-index: 1;position: relative;background-color: white;}#sk-container-id-4 div.sk-parallel-item:first-child::after {align-self: flex-end;width: 50%;}#sk-container-id-4 div.sk-parallel-item:last-child::after {align-self: flex-start;width: 50%;}#sk-container-id-4 div.sk-parallel-item:only-child::after {width: 0;}#sk-container-id-4 div.sk-dashed-wrapped {border: 1px dashed gray;margin: 0 0.4em 0.5em 0.4em;box-sizing: border-box;padding-bottom: 0.4em;background-color: white;}#sk-container-id-4 div.sk-label label {font-family: monospace;font-weight: bold;display: inline-block;line-height: 1.2em;}#sk-container-id-4 div.sk-label-container {text-align: center;}#sk-container-id-4 div.sk-container {/* jupyter's `normalize.less` sets `[hidden] { display: none; }` but bootstrap.min.css set `[hidden] { display: none !important; }` so we also need the `!important` here to be able to override the default hidden behavior on the sphinx rendered scikit-learn.org. See: https://github.com/scikit-learn/scikit-learn/issues/21755 */display: inline-block !important;position: relative;}#sk-container-id-4 div.sk-text-repr-fallback {display: none;}</style><div id=\"sk-container-id-4\" class=\"sk-top-container\"><div class=\"sk-text-repr-fallback\"><pre>LogisticRegression(C=0.01, l1_ratio=0.5, penalty=&#x27;elasticnet&#x27;, solver=&#x27;saga&#x27;)</pre><b>In a Jupyter environment, please rerun this cell to show the HTML representation or trust the notebook. <br />On GitHub, the HTML representation is unable to render, please try loading this page with nbviewer.org.</b></div><div class=\"sk-container\" hidden><div class=\"sk-item\"><div class=\"sk-estimator sk-toggleable\"><input class=\"sk-toggleable__control sk-hidden--visually\" id=\"sk-estimator-id-4\" type=\"checkbox\" checked><label for=\"sk-estimator-id-4\" class=\"sk-toggleable__label sk-toggleable__label-arrow\">LogisticRegression</label><div class=\"sk-toggleable__content\"><pre>LogisticRegression(C=0.01, l1_ratio=0.5, penalty=&#x27;elasticnet&#x27;, solver=&#x27;saga&#x27;)</pre></div></div></div></div></div>"
            ],
            "text/plain": [
              "LogisticRegression(C=0.01, l1_ratio=0.5, penalty='elasticnet', solver='saga')"
            ]
          },
          "execution_count": 50,
          "metadata": {},
          "output_type": "execute_result"
        }
      ],
      "source": [
        "#Applying the Logistic Regression on the training dataset with Elastic net, we are adding l1_ratio = 0.5\n",
        "#that means we are adding boht L1 and L2.\n",
        "#The Elastic-Net mixing parameter, with 0 <= l1_ratio <= 1. Only used if penalty='elasticnet'.\n",
        "#Setting l1_ratio=0 is equivalent to using penalty='l2', while setting l1_ratio=1 is equivalent to using penalty='l1'.\n",
        "#For 0 < l1_ratio <1, the penalty is a combination of L1 and L2.\n",
        "from sklearn.linear_model import LogisticRegression\n",
        "logmodel_elasticnet = LogisticRegression(C=0.01,penalty='elasticnet',solver='saga',l1_ratio=0.5)\n",
        "logmodel_elasticnet.fit(x_train,y_train)"
      ]
    },
    {
      "cell_type": "code",
      "execution_count": null,
      "id": "3870c61b",
      "metadata": {
        "colab": {
          "base_uri": "https://localhost:8080/"
        },
        "id": "3870c61b",
        "outputId": "68f654c3-a507-4725-9066-ff6cd7ea80be"
      },
      "outputs": [
        {
          "data": {
            "text/plain": [
              "array([[0.        , 0.2884529 , 0.2273055 , 1.36567996, 1.2767825 ,\n",
              "        1.27870828, 1.31842369]])"
            ]
          },
          "execution_count": 51,
          "metadata": {},
          "output_type": "execute_result"
        }
      ],
      "source": [
        "logmodel_elasticnet.coef_"
      ]
    },
    {
      "cell_type": "code",
      "execution_count": null,
      "id": "0334a6ed",
      "metadata": {
        "id": "0334a6ed"
      },
      "outputs": [],
      "source": [
        "#Running the model on the test dataset\n",
        "y_pred_elasticnet = logmodel_elasticnet.predict(x_test)"
      ]
    },
    {
      "cell_type": "code",
      "execution_count": null,
      "id": "49b2ba5a",
      "metadata": {
        "colab": {
          "base_uri": "https://localhost:8080/"
        },
        "id": "49b2ba5a",
        "outputId": "2a1fa2bf-819d-4135-8511-3b78f9d2f278"
      },
      "outputs": [
        {
          "data": {
            "text/plain": [
              "0.966022651565623"
            ]
          },
          "execution_count": 53,
          "metadata": {},
          "output_type": "execute_result"
        }
      ],
      "source": [
        "#Using accuracy score we are checking the accuracy on the testing dataset\n",
        "accuracy_score(y_test,y_pred_elasticnet)"
      ]
    },
    {
      "cell_type": "code",
      "execution_count": null,
      "id": "b55bdaa3",
      "metadata": {
        "id": "b55bdaa3"
      },
      "outputs": [],
      "source": [
        "#Running the model on the train dataset\n",
        "y_pred_train_elasticnet = logmodel_elasticnet.predict(x_train)"
      ]
    },
    {
      "cell_type": "code",
      "execution_count": null,
      "id": "eb396c86",
      "metadata": {
        "colab": {
          "base_uri": "https://localhost:8080/"
        },
        "id": "eb396c86",
        "outputId": "b09673ea-8b6c-44d0-c709-02ffd7a5dce0"
      },
      "outputs": [
        {
          "data": {
            "text/plain": [
              "0.9697142857142858"
            ]
          },
          "execution_count": 55,
          "metadata": {},
          "output_type": "execute_result"
        }
      ],
      "source": [
        "#Using accuracy score we are checking the accuracy on the training dataset\n",
        "accuracy_score(y_train,y_pred_train_elasticnet)"
      ]
    },
    {
      "cell_type": "code",
      "execution_count": null,
      "id": "6y_ndHuchGel",
      "metadata": {
        "id": "6y_ndHuchGel"
      },
      "outputs": [],
      "source": [
        "# create an empty dataframe to store the scores for various algorithms\n",
        "from sklearn.metrics import roc_auc_score, precision_score, recall_score, roc_auc_score, f1_score\n",
        "score_card = pd.DataFrame(columns=['model_name','Accuracy Score','Precision Score','Recall Score','AUC Score','f1 Score'])\n",
        "\n",
        "# append the result table for all performance scores\n",
        "\n",
        "def update_score_card(y_test,y_pred,model_name):\n",
        "\n",
        "    # assign 'score_card' as global variable\n",
        "    global score_card\n",
        "\n",
        "    # append the results to the dataframe 'score_card'\n",
        "    # 'ignore_index = True' do not consider the index labels\n",
        "    score_card = pd.concat([score_card,pd.DataFrame([{'model_name':model_name,\n",
        "                                    'Accuracy Score' : accuracy_score(y_test, y_pred),\n",
        "                                    'Precision Score': precision_score(y_test, y_pred),\n",
        "                                    'Recall Score': recall_score(y_test, y_pred),\n",
        "                                    'AUC Score': roc_auc_score(y_test, y_pred),\n",
        "                                    'f1 Score': f1_score(y_test, y_pred)}])],\n",
        "                                    ignore_index = True)"
      ]
    },
    {
      "cell_type": "code",
      "execution_count": null,
      "id": "1c40c0d9",
      "metadata": {
        "id": "1c40c0d9"
      },
      "outputs": [],
      "source": [
        "update_score_card(y_test,y_pred_ini,'initial_model')"
      ]
    },
    {
      "cell_type": "code",
      "execution_count": null,
      "id": "ad705600",
      "metadata": {
        "id": "ad705600"
      },
      "outputs": [],
      "source": [
        "update_score_card(y_test,y_pred_ridge,'Ridge Regression - L2 Reg')"
      ]
    },
    {
      "cell_type": "code",
      "execution_count": null,
      "id": "f0fc7451",
      "metadata": {
        "id": "f0fc7451"
      },
      "outputs": [],
      "source": [
        "update_score_card(y_test,y_pred_lasso,'Lasso Regression - L1 Reg')"
      ]
    },
    {
      "cell_type": "code",
      "execution_count": null,
      "id": "cbe9f1aa",
      "metadata": {
        "id": "cbe9f1aa"
      },
      "outputs": [],
      "source": [
        "update_score_card(y_test,y_pred_elasticnet,'Elastic Net - L1 and L2')"
      ]
    },
    {
      "cell_type": "code",
      "execution_count": null,
      "id": "1792c43d",
      "metadata": {
        "colab": {
          "base_uri": "https://localhost:8080/",
          "height": 175
        },
        "id": "1792c43d",
        "outputId": "33edf65c-9065-499d-ebb5-f4dbfdc83768",
        "scrolled": true
      },
      "outputs": [
        {
          "data": {
            "application/vnd.google.colaboratory.intrinsic+json": {
              "summary": "{\n  \"name\": \"score_card\",\n  \"rows\": 4,\n  \"fields\": [\n    {\n      \"column\": \"model_name\",\n      \"properties\": {\n        \"dtype\": \"string\",\n        \"num_unique_values\": 4,\n        \"samples\": [\n          \"Ridge Regression - L2 Reg\",\n          \"Elastic Net - L1 and L2\",\n          \"initial_model\"\n        ],\n        \"semantic_type\": \"\",\n        \"description\": \"\"\n      }\n    },\n    {\n      \"column\": \"Accuracy Score\",\n      \"properties\": {\n        \"dtype\": \"number\",\n        \"std\": 0.0050847226923630305,\n        \"min\": 0.955363091272485,\n        \"max\": 0.966022651565623,\n        \"num_unique_values\": 4,\n        \"samples\": [\n          0.9593604263824117,\n          0.966022651565623,\n          0.9653564290473018\n        ],\n        \"semantic_type\": \"\",\n        \"description\": \"\"\n      }\n    },\n    {\n      \"column\": \"Precision Score\",\n      \"properties\": {\n        \"dtype\": \"number\",\n        \"std\": 0.01441269454801188,\n        \"min\": 0.9351969504447268,\n        \"max\": 0.9642384105960264,\n        \"num_unique_values\": 4,\n        \"samples\": [\n          0.9435173299101413,\n          0.9642384105960264,\n          0.9629629629629629\n        ],\n        \"semantic_type\": \"\",\n        \"description\": \"\"\n      }\n    },\n    {\n      \"column\": \"Recall Score\",\n      \"properties\": {\n        \"dtype\": \"number\",\n        \"std\": 0.005783682779565535,\n        \"min\": 0.9680851063829787,\n        \"max\": 0.9787234042553191,\n        \"num_unique_values\": 3,\n        \"samples\": [\n          0.9680851063829787,\n          0.9773936170212766,\n          0.9787234042553191\n        ],\n        \"semantic_type\": \"\",\n        \"description\": \"\"\n      }\n    },\n    {\n      \"column\": \"AUC Score\",\n      \"properties\": {\n        \"dtype\": \"number\",\n        \"std\": 0.005106159582800836,\n        \"min\": 0.9553163082691815,\n        \"max\": 0.9660185211487657,\n        \"num_unique_values\": 4,\n        \"samples\": [\n          0.9593243118484219,\n          0.9660185211487657,\n          0.9653509644064426\n        ],\n        \"semantic_type\": \"\",\n        \"description\": \"\"\n      }\n    },\n    {\n      \"column\": \"f1 Score\",\n      \"properties\": {\n        \"dtype\": \"number\",\n        \"std\": 0.00460682178832313,\n        \"min\": 0.9564652371669916,\n        \"max\": 0.9661579296615792,\n        \"num_unique_values\": 4,\n        \"samples\": [\n          0.9601567602873938,\n          0.9661579296615792,\n          0.9655172413793103\n        ],\n        \"semantic_type\": \"\",\n        \"description\": \"\"\n      }\n    }\n  ]\n}",
              "type": "dataframe",
              "variable_name": "score_card"
            },
            "text/html": [
              "\n",
              "  <div id=\"df-a52ee2c1-b0fc-43c4-ba70-949ba288c23b\" class=\"colab-df-container\">\n",
              "    <div>\n",
              "<style scoped>\n",
              "    .dataframe tbody tr th:only-of-type {\n",
              "        vertical-align: middle;\n",
              "    }\n",
              "\n",
              "    .dataframe tbody tr th {\n",
              "        vertical-align: top;\n",
              "    }\n",
              "\n",
              "    .dataframe thead th {\n",
              "        text-align: right;\n",
              "    }\n",
              "</style>\n",
              "<table border=\"1\" class=\"dataframe\">\n",
              "  <thead>\n",
              "    <tr style=\"text-align: right;\">\n",
              "      <th></th>\n",
              "      <th>model_name</th>\n",
              "      <th>Accuracy Score</th>\n",
              "      <th>Precision Score</th>\n",
              "      <th>Recall Score</th>\n",
              "      <th>AUC Score</th>\n",
              "      <th>f1 Score</th>\n",
              "    </tr>\n",
              "  </thead>\n",
              "  <tbody>\n",
              "    <tr>\n",
              "      <th>0</th>\n",
              "      <td>initial_model</td>\n",
              "      <td>0.965356</td>\n",
              "      <td>0.962963</td>\n",
              "      <td>0.968085</td>\n",
              "      <td>0.965351</td>\n",
              "      <td>0.965517</td>\n",
              "    </tr>\n",
              "    <tr>\n",
              "      <th>1</th>\n",
              "      <td>Ridge Regression - L2 Reg</td>\n",
              "      <td>0.959360</td>\n",
              "      <td>0.943517</td>\n",
              "      <td>0.977394</td>\n",
              "      <td>0.959324</td>\n",
              "      <td>0.960157</td>\n",
              "    </tr>\n",
              "    <tr>\n",
              "      <th>2</th>\n",
              "      <td>Lasso Regression - L1 Reg</td>\n",
              "      <td>0.955363</td>\n",
              "      <td>0.935197</td>\n",
              "      <td>0.978723</td>\n",
              "      <td>0.955316</td>\n",
              "      <td>0.956465</td>\n",
              "    </tr>\n",
              "    <tr>\n",
              "      <th>3</th>\n",
              "      <td>Elastic Net - L1 and L2</td>\n",
              "      <td>0.966023</td>\n",
              "      <td>0.964238</td>\n",
              "      <td>0.968085</td>\n",
              "      <td>0.966019</td>\n",
              "      <td>0.966158</td>\n",
              "    </tr>\n",
              "  </tbody>\n",
              "</table>\n",
              "</div>\n",
              "    <div class=\"colab-df-buttons\">\n",
              "\n",
              "  <div class=\"colab-df-container\">\n",
              "    <button class=\"colab-df-convert\" onclick=\"convertToInteractive('df-a52ee2c1-b0fc-43c4-ba70-949ba288c23b')\"\n",
              "            title=\"Convert this dataframe to an interactive table.\"\n",
              "            style=\"display:none;\">\n",
              "\n",
              "  <svg xmlns=\"http://www.w3.org/2000/svg\" height=\"24px\" viewBox=\"0 -960 960 960\">\n",
              "    <path d=\"M120-120v-720h720v720H120Zm60-500h600v-160H180v160Zm220 220h160v-160H400v160Zm0 220h160v-160H400v160ZM180-400h160v-160H180v160Zm440 0h160v-160H620v160ZM180-180h160v-160H180v160Zm440 0h160v-160H620v160Z\"/>\n",
              "  </svg>\n",
              "    </button>\n",
              "\n",
              "  <style>\n",
              "    .colab-df-container {\n",
              "      display:flex;\n",
              "      gap: 12px;\n",
              "    }\n",
              "\n",
              "    .colab-df-convert {\n",
              "      background-color: #E8F0FE;\n",
              "      border: none;\n",
              "      border-radius: 50%;\n",
              "      cursor: pointer;\n",
              "      display: none;\n",
              "      fill: #1967D2;\n",
              "      height: 32px;\n",
              "      padding: 0 0 0 0;\n",
              "      width: 32px;\n",
              "    }\n",
              "\n",
              "    .colab-df-convert:hover {\n",
              "      background-color: #E2EBFA;\n",
              "      box-shadow: 0px 1px 2px rgba(60, 64, 67, 0.3), 0px 1px 3px 1px rgba(60, 64, 67, 0.15);\n",
              "      fill: #174EA6;\n",
              "    }\n",
              "\n",
              "    .colab-df-buttons div {\n",
              "      margin-bottom: 4px;\n",
              "    }\n",
              "\n",
              "    [theme=dark] .colab-df-convert {\n",
              "      background-color: #3B4455;\n",
              "      fill: #D2E3FC;\n",
              "    }\n",
              "\n",
              "    [theme=dark] .colab-df-convert:hover {\n",
              "      background-color: #434B5C;\n",
              "      box-shadow: 0px 1px 3px 1px rgba(0, 0, 0, 0.15);\n",
              "      filter: drop-shadow(0px 1px 2px rgba(0, 0, 0, 0.3));\n",
              "      fill: #FFFFFF;\n",
              "    }\n",
              "  </style>\n",
              "\n",
              "    <script>\n",
              "      const buttonEl =\n",
              "        document.querySelector('#df-a52ee2c1-b0fc-43c4-ba70-949ba288c23b button.colab-df-convert');\n",
              "      buttonEl.style.display =\n",
              "        google.colab.kernel.accessAllowed ? 'block' : 'none';\n",
              "\n",
              "      async function convertToInteractive(key) {\n",
              "        const element = document.querySelector('#df-a52ee2c1-b0fc-43c4-ba70-949ba288c23b');\n",
              "        const dataTable =\n",
              "          await google.colab.kernel.invokeFunction('convertToInteractive',\n",
              "                                                    [key], {});\n",
              "        if (!dataTable) return;\n",
              "\n",
              "        const docLinkHtml = 'Like what you see? Visit the ' +\n",
              "          '<a target=\"_blank\" href=https://colab.research.google.com/notebooks/data_table.ipynb>data table notebook</a>'\n",
              "          + ' to learn more about interactive tables.';\n",
              "        element.innerHTML = '';\n",
              "        dataTable['output_type'] = 'display_data';\n",
              "        await google.colab.output.renderOutput(dataTable, element);\n",
              "        const docLink = document.createElement('div');\n",
              "        docLink.innerHTML = docLinkHtml;\n",
              "        element.appendChild(docLink);\n",
              "      }\n",
              "    </script>\n",
              "  </div>\n",
              "\n",
              "\n",
              "<div id=\"df-2e8891e6-85e8-49b3-b580-1721c9ce1a8d\">\n",
              "  <button class=\"colab-df-quickchart\" onclick=\"quickchart('df-2e8891e6-85e8-49b3-b580-1721c9ce1a8d')\"\n",
              "            title=\"Suggest charts\"\n",
              "            style=\"display:none;\">\n",
              "\n",
              "<svg xmlns=\"http://www.w3.org/2000/svg\" height=\"24px\"viewBox=\"0 0 24 24\"\n",
              "     width=\"24px\">\n",
              "    <g>\n",
              "        <path d=\"M19 3H5c-1.1 0-2 .9-2 2v14c0 1.1.9 2 2 2h14c1.1 0 2-.9 2-2V5c0-1.1-.9-2-2-2zM9 17H7v-7h2v7zm4 0h-2V7h2v10zm4 0h-2v-4h2v4z\"/>\n",
              "    </g>\n",
              "</svg>\n",
              "  </button>\n",
              "\n",
              "<style>\n",
              "  .colab-df-quickchart {\n",
              "      --bg-color: #E8F0FE;\n",
              "      --fill-color: #1967D2;\n",
              "      --hover-bg-color: #E2EBFA;\n",
              "      --hover-fill-color: #174EA6;\n",
              "      --disabled-fill-color: #AAA;\n",
              "      --disabled-bg-color: #DDD;\n",
              "  }\n",
              "\n",
              "  [theme=dark] .colab-df-quickchart {\n",
              "      --bg-color: #3B4455;\n",
              "      --fill-color: #D2E3FC;\n",
              "      --hover-bg-color: #434B5C;\n",
              "      --hover-fill-color: #FFFFFF;\n",
              "      --disabled-bg-color: #3B4455;\n",
              "      --disabled-fill-color: #666;\n",
              "  }\n",
              "\n",
              "  .colab-df-quickchart {\n",
              "    background-color: var(--bg-color);\n",
              "    border: none;\n",
              "    border-radius: 50%;\n",
              "    cursor: pointer;\n",
              "    display: none;\n",
              "    fill: var(--fill-color);\n",
              "    height: 32px;\n",
              "    padding: 0;\n",
              "    width: 32px;\n",
              "  }\n",
              "\n",
              "  .colab-df-quickchart:hover {\n",
              "    background-color: var(--hover-bg-color);\n",
              "    box-shadow: 0 1px 2px rgba(60, 64, 67, 0.3), 0 1px 3px 1px rgba(60, 64, 67, 0.15);\n",
              "    fill: var(--button-hover-fill-color);\n",
              "  }\n",
              "\n",
              "  .colab-df-quickchart-complete:disabled,\n",
              "  .colab-df-quickchart-complete:disabled:hover {\n",
              "    background-color: var(--disabled-bg-color);\n",
              "    fill: var(--disabled-fill-color);\n",
              "    box-shadow: none;\n",
              "  }\n",
              "\n",
              "  .colab-df-spinner {\n",
              "    border: 2px solid var(--fill-color);\n",
              "    border-color: transparent;\n",
              "    border-bottom-color: var(--fill-color);\n",
              "    animation:\n",
              "      spin 1s steps(1) infinite;\n",
              "  }\n",
              "\n",
              "  @keyframes spin {\n",
              "    0% {\n",
              "      border-color: transparent;\n",
              "      border-bottom-color: var(--fill-color);\n",
              "      border-left-color: var(--fill-color);\n",
              "    }\n",
              "    20% {\n",
              "      border-color: transparent;\n",
              "      border-left-color: var(--fill-color);\n",
              "      border-top-color: var(--fill-color);\n",
              "    }\n",
              "    30% {\n",
              "      border-color: transparent;\n",
              "      border-left-color: var(--fill-color);\n",
              "      border-top-color: var(--fill-color);\n",
              "      border-right-color: var(--fill-color);\n",
              "    }\n",
              "    40% {\n",
              "      border-color: transparent;\n",
              "      border-right-color: var(--fill-color);\n",
              "      border-top-color: var(--fill-color);\n",
              "    }\n",
              "    60% {\n",
              "      border-color: transparent;\n",
              "      border-right-color: var(--fill-color);\n",
              "    }\n",
              "    80% {\n",
              "      border-color: transparent;\n",
              "      border-right-color: var(--fill-color);\n",
              "      border-bottom-color: var(--fill-color);\n",
              "    }\n",
              "    90% {\n",
              "      border-color: transparent;\n",
              "      border-bottom-color: var(--fill-color);\n",
              "    }\n",
              "  }\n",
              "</style>\n",
              "\n",
              "  <script>\n",
              "    async function quickchart(key) {\n",
              "      const quickchartButtonEl =\n",
              "        document.querySelector('#' + key + ' button');\n",
              "      quickchartButtonEl.disabled = true;  // To prevent multiple clicks.\n",
              "      quickchartButtonEl.classList.add('colab-df-spinner');\n",
              "      try {\n",
              "        const charts = await google.colab.kernel.invokeFunction(\n",
              "            'suggestCharts', [key], {});\n",
              "      } catch (error) {\n",
              "        console.error('Error during call to suggestCharts:', error);\n",
              "      }\n",
              "      quickchartButtonEl.classList.remove('colab-df-spinner');\n",
              "      quickchartButtonEl.classList.add('colab-df-quickchart-complete');\n",
              "    }\n",
              "    (() => {\n",
              "      let quickchartButtonEl =\n",
              "        document.querySelector('#df-2e8891e6-85e8-49b3-b580-1721c9ce1a8d button');\n",
              "      quickchartButtonEl.style.display =\n",
              "        google.colab.kernel.accessAllowed ? 'block' : 'none';\n",
              "    })();\n",
              "  </script>\n",
              "</div>\n",
              "\n",
              "  <div id=\"id_96ae7085-3233-484a-96b5-17a9912133ec\">\n",
              "    <style>\n",
              "      .colab-df-generate {\n",
              "        background-color: #E8F0FE;\n",
              "        border: none;\n",
              "        border-radius: 50%;\n",
              "        cursor: pointer;\n",
              "        display: none;\n",
              "        fill: #1967D2;\n",
              "        height: 32px;\n",
              "        padding: 0 0 0 0;\n",
              "        width: 32px;\n",
              "      }\n",
              "\n",
              "      .colab-df-generate:hover {\n",
              "        background-color: #E2EBFA;\n",
              "        box-shadow: 0px 1px 2px rgba(60, 64, 67, 0.3), 0px 1px 3px 1px rgba(60, 64, 67, 0.15);\n",
              "        fill: #174EA6;\n",
              "      }\n",
              "\n",
              "      [theme=dark] .colab-df-generate {\n",
              "        background-color: #3B4455;\n",
              "        fill: #D2E3FC;\n",
              "      }\n",
              "\n",
              "      [theme=dark] .colab-df-generate:hover {\n",
              "        background-color: #434B5C;\n",
              "        box-shadow: 0px 1px 3px 1px rgba(0, 0, 0, 0.15);\n",
              "        filter: drop-shadow(0px 1px 2px rgba(0, 0, 0, 0.3));\n",
              "        fill: #FFFFFF;\n",
              "      }\n",
              "    </style>\n",
              "    <button class=\"colab-df-generate\" onclick=\"generateWithVariable('score_card')\"\n",
              "            title=\"Generate code using this dataframe.\"\n",
              "            style=\"display:none;\">\n",
              "\n",
              "  <svg xmlns=\"http://www.w3.org/2000/svg\" height=\"24px\"viewBox=\"0 0 24 24\"\n",
              "       width=\"24px\">\n",
              "    <path d=\"M7,19H8.4L18.45,9,17,7.55,7,17.6ZM5,21V16.75L18.45,3.32a2,2,0,0,1,2.83,0l1.4,1.43a1.91,1.91,0,0,1,.58,1.4,1.91,1.91,0,0,1-.58,1.4L9.25,21ZM18.45,9,17,7.55Zm-12,3A5.31,5.31,0,0,0,4.9,8.1,5.31,5.31,0,0,0,1,6.5,5.31,5.31,0,0,0,4.9,4.9,5.31,5.31,0,0,0,6.5,1,5.31,5.31,0,0,0,8.1,4.9,5.31,5.31,0,0,0,12,6.5,5.46,5.46,0,0,0,6.5,12Z\"/>\n",
              "  </svg>\n",
              "    </button>\n",
              "    <script>\n",
              "      (() => {\n",
              "      const buttonEl =\n",
              "        document.querySelector('#id_96ae7085-3233-484a-96b5-17a9912133ec button.colab-df-generate');\n",
              "      buttonEl.style.display =\n",
              "        google.colab.kernel.accessAllowed ? 'block' : 'none';\n",
              "\n",
              "      buttonEl.onclick = () => {\n",
              "        google.colab.notebook.generateWithVariable('score_card');\n",
              "      }\n",
              "      })();\n",
              "    </script>\n",
              "  </div>\n",
              "\n",
              "    </div>\n",
              "  </div>\n"
            ],
            "text/plain": [
              "                  model_name  Accuracy Score  Precision Score  Recall Score  \\\n",
              "0              initial_model        0.965356         0.962963      0.968085   \n",
              "1  Ridge Regression - L2 Reg        0.959360         0.943517      0.977394   \n",
              "2  Lasso Regression - L1 Reg        0.955363         0.935197      0.978723   \n",
              "3    Elastic Net - L1 and L2        0.966023         0.964238      0.968085   \n",
              "\n",
              "   AUC Score  f1 Score  \n",
              "0   0.965351  0.965517  \n",
              "1   0.959324  0.960157  \n",
              "2   0.955316  0.956465  \n",
              "3   0.966019  0.966158  "
            ]
          },
          "execution_count": 78,
          "metadata": {},
          "output_type": "execute_result"
        }
      ],
      "source": [
        "score_card"
      ]
    },
    {
      "cell_type": "markdown",
      "id": "f1a05820",
      "metadata": {
        "id": "f1a05820"
      },
      "source": [
        "**Interpretation: As per the above table, the initial model and the Elasticnet are giving the same accuracy score, however if the use case is to get the output faster i.e. low latency system we can go with L1 regularization**"
      ]
    }
  ],
  "metadata": {
    "colab": {
      "provenance": []
    },
    "kernelspec": {
      "display_name": "Python 3 (ipykernel)",
      "language": "python",
      "name": "python3"
    },
    "language_info": {
      "codemirror_mode": {
        "name": "ipython",
        "version": 3
      },
      "file_extension": ".py",
      "mimetype": "text/x-python",
      "name": "python",
      "nbconvert_exporter": "python",
      "pygments_lexer": "ipython3",
      "version": "3.9.7"
    }
  },
  "nbformat": 4,
  "nbformat_minor": 5
}